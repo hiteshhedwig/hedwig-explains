{
  "nbformat": 4,
  "nbformat_minor": 0,
  "metadata": {
    "kernelspec": {
      "display_name": "Python 3",
      "language": "python",
      "name": "python3"
    },
    "language_info": {
      "codemirror_mode": {
        "name": "ipython",
        "version": 3
      },
      "file_extension": ".py",
      "mimetype": "text/x-python",
      "name": "python",
      "nbconvert_exporter": "python",
      "pygments_lexer": "ipython3",
      "version": "3.7.6"
    },
    "papermill": {
      "duration": 166.968443,
      "end_time": "2020-09-13T12:22:34.094183",
      "environment_variables": {},
      "exception": null,
      "input_path": "__notebook__.ipynb",
      "output_path": "__notebook__.ipynb",
      "parameters": {},
      "start_time": "2020-09-13T12:19:47.125740",
      "version": "2.1.0"
    },
    "colab": {
      "name": "titanic-1-fastai-beginner-tutorial.ipynb",
      "provenance": []
    }
  },
  "cells": [
    {
      "cell_type": "markdown",
      "metadata": {
        "id": "NWRPT84gjVCw"
      },
      "source": [
        "# \"Kaggle Titanic Dataset Top 1% Solution\"\n",
        "> \"Top1%: FastAI Beginner Tutorial\"\n",
        "\n",
        "- toc: true\n",
        "- badges: true\n",
        "- comments: true\n",
        "- categories: [fastai, kaggle, datascience]\n",
        "- author: Hitesh Kumar\n",
        "- image: images/copied_from_nb/img/ship.png"
      ]
    },
    {
      "cell_type": "markdown",
      "metadata": {
        "papermill": {
          "duration": 0.03352,
          "end_time": "2020-09-13T12:19:52.618600",
          "exception": false,
          "start_time": "2020-09-13T12:19:52.585080",
          "status": "completed"
        },
        "tags": [],
        "id": "TfjcyCXDU_2c"
      },
      "source": [
        "![Cover Image](img/ship.png)"
      ]
    },
    {
      "cell_type": "markdown",
      "metadata": {
        "id": "WTQrvGmX3HKQ"
      },
      "source": [
        "# What are we doing?"
      ]
    },
    {
      "cell_type": "markdown",
      "metadata": {
        "id": "ycF2rsiD3Jo-"
      },
      "source": [
        "In this blog, we use kaggle titanic dataset. Which got data of all the people who were in titanic fiasco accident. Sp, we are using some part of data to train model so that it can predict if someone survived in titanic fiasco. "
      ]
    },
    {
      "cell_type": "markdown",
      "metadata": {
        "id": "dL7xYHns228D"
      },
      "source": [
        "# Intro:"
      ]
    },
    {
      "cell_type": "markdown",
      "metadata": {
        "papermill": {
          "duration": 0.039496,
          "end_time": "2020-09-13T12:19:52.692374",
          "exception": false,
          "start_time": "2020-09-13T12:19:52.652878",
          "status": "completed"
        },
        "tags": [],
        "id": "Fe-MNO9oU_2j"
      },
      "source": [
        "In this blog, i am explaining about how you can get kaggle top 1% score at beginner [dataset](https://www.kaggle.com/c/titanic). But for the better result. I am using [this data](https://www.kaggle.com/pavlofesenko/titanic-extended). Which is a bit extension of kaggle original one.\n",
        "\n",
        "We are not USING EDA here. This post is to show you how can a powerful tool like fastai can make life so simple. Only automatic preprocessing data in fastai and training model and getting score of top1%.\n",
        "\n",
        "\n",
        "Here, we are using dataset which is a bit extension of classic titanic dataset. you can check out this: https://www.kaggle.com/pavlofesenko/titanic-extended\n",
        "\n",
        "And It is fair to use this, i reckon. We are not altering test data at all. Only using new features(Like how we generate new features). Number of rows remains same in both test and training data.\n",
        "\n",
        "We will be using newly released fastai2.0 library and standard sklearn. fastai2.0 is worth checking out https://docs.fast.ai/ It is more fast and efficient. With this, we can minimize our effort for preprocessing and gain better results.\n"
      ]
    },
    {
      "cell_type": "code",
      "metadata": {
        "_cell_guid": "b1076dfc-b9ad-4769-8c92-a6c4dae69d19",
        "_uuid": "8f2839f25d086af736a60e9eeb907d3b93b6e0e5",
        "execution": {
          "iopub.execute_input": "2020-09-13T12:19:52.765219Z",
          "iopub.status.busy": "2020-09-13T12:19:52.764437Z",
          "iopub.status.idle": "2020-09-13T12:19:52.778386Z",
          "shell.execute_reply": "2020-09-13T12:19:52.777461Z"
        },
        "papermill": {
          "duration": 0.053078,
          "end_time": "2020-09-13T12:19:52.778585",
          "exception": false,
          "start_time": "2020-09-13T12:19:52.725507",
          "status": "completed"
        },
        "tags": [],
        "id": "n1NAxsO9U_2r",
        "outputId": "98a60bff-2b58-457e-af45-99684f0f134f"
      },
      "source": [
        "#hide\n",
        "\n",
        "# This Python 3 environment comes with many helpful analytics libraries installed\n",
        "# It is defined by the kaggle/python Docker image: https://github.com/kaggle/docker-python\n",
        "# For example, here's several helpful packages to load\n",
        "\n",
        "import numpy as np # linear algebra\n",
        "import pandas as pd # data processing, CSV file I/O (e.g. pd.read_csv)\n",
        "\n",
        "# Input data files are available in the read-only \"../input/\" directory\n",
        "# For example, running this (by clicking run or pressing Shift+Enter) will list all files under the input directory\n",
        "\n",
        "import os\n",
        "for dirname, _, filenames in os.walk('/kaggle/input'):\n",
        "    for filename in filenames:\n",
        "        print(os.path.join(dirname, filename))\n",
        "\n",
        "# You can write up to 5GB to the current directory (/kaggle/working/) that gets preserved as output when you create a version using \"Save & Run All\" \n",
        "# You can also write temporary files to /kaggle/temp/, but they won't be saved outside of the current session"
      ],
      "execution_count": null,
      "outputs": [
        {
          "output_type": "stream",
          "text": [
            "/kaggle/input/titanic/train.csv\n",
            "/kaggle/input/titanic/gender_submission.csv\n",
            "/kaggle/input/titanic/test.csv\n",
            "/kaggle/input/titanic-extended/train.csv\n",
            "/kaggle/input/titanic-extended/test.csv\n",
            "/kaggle/input/titanic-extended/full.csv\n"
          ],
          "name": "stdout"
        }
      ]
    },
    {
      "cell_type": "markdown",
      "metadata": {
        "papermill": {
          "duration": 0.033583,
          "end_time": "2020-09-13T12:19:52.847450",
          "exception": false,
          "start_time": "2020-09-13T12:19:52.813867",
          "status": "completed"
        },
        "tags": [],
        "id": "BM-Vg0w5U_3X"
      },
      "source": [
        "Installing fastai2, yes its not preinstalled. We would need to install on our own. Incase you are running this notebook on kaggle workspace.\n",
        "\n",
        " > Warning: If you get some sort of error in importing fastai modules. I would recommend changing notebook environment to `Always use latest environment Always get the latest package versions, but you may have to modify your code`\n",
        "\n"
      ]
    },
    {
      "cell_type": "code",
      "metadata": {
        "_cell_guid": "79c7e3d0-c299-4dcb-8224-4455121ee9b0",
        "_uuid": "d629ff2d2480ee46fbb7e2d37f6b5fab8052498a",
        "execution": {
          "iopub.execute_input": "2020-09-13T12:19:52.919020Z",
          "iopub.status.busy": "2020-09-13T12:19:52.918297Z",
          "iopub.status.idle": "2020-09-13T12:21:34.065001Z",
          "shell.execute_reply": "2020-09-13T12:21:34.066142Z"
        },
        "papermill": {
          "duration": 101.186988,
          "end_time": "2020-09-13T12:21:34.066332",
          "exception": false,
          "start_time": "2020-09-13T12:19:52.879344",
          "status": "completed"
        },
        "tags": [],
        "id": "ZMQxg5WMU_3k",
        "outputId": "d4f64921-2eaa-41a2-ae01-1956f3ef8dab"
      },
      "source": [
        "#hide_output\n",
        "!pip install fastai2"
      ],
      "execution_count": null,
      "outputs": [
        {
          "output_type": "stream",
          "text": [
            "Collecting fastai2\r\n",
            "  Downloading fastai2-0.0.30-py3-none-any.whl (179 kB)\r\n",
            "\u001b[K     |████████████████████████████████| 179 kB 603 kB/s \r\n",
            "\u001b[?25hRequirement already satisfied: requests in /opt/conda/lib/python3.7/site-packages (from fastai2) (2.23.0)\r\n",
            "Requirement already satisfied: spacy in /opt/conda/lib/python3.7/site-packages (from fastai2) (2.2.4)\r\n",
            "Requirement already satisfied: pillow in /opt/conda/lib/python3.7/site-packages (from fastai2) (7.2.0)\r\n",
            "Collecting fastcore>=0.1.34\r\n",
            "  Downloading fastcore-1.0.9-py3-none-any.whl (37 kB)\r\n",
            "Requirement already satisfied: pyyaml in /opt/conda/lib/python3.7/site-packages (from fastai2) (5.3.1)\r\n",
            "Requirement already satisfied: pandas in /opt/conda/lib/python3.7/site-packages (from fastai2) (1.1.1)\r\n",
            "Requirement already satisfied: matplotlib in /opt/conda/lib/python3.7/site-packages (from fastai2) (3.2.1)\r\n",
            "Requirement already satisfied: scipy in /opt/conda/lib/python3.7/site-packages (from fastai2) (1.4.1)\r\n",
            "Requirement already satisfied: pip in /opt/conda/lib/python3.7/site-packages (from fastai2) (20.2.2)\r\n",
            "Requirement already satisfied: scikit-learn in /opt/conda/lib/python3.7/site-packages (from fastai2) (0.23.2)\r\n",
            "Requirement already satisfied: fastprogress>=0.2.4 in /opt/conda/lib/python3.7/site-packages (from fastai2) (1.0.0)\r\n",
            "Collecting torch>=1.6.0\r\n",
            "  Downloading torch-1.6.0-cp37-cp37m-manylinux1_x86_64.whl (748.8 MB)\r\n",
            "\u001b[K     |████████████████████████████████| 748.8 MB 11 kB/s \r\n",
            "\u001b[?25hCollecting torchvision>=0.7\r\n",
            "  Downloading torchvision-0.7.0-cp37-cp37m-manylinux1_x86_64.whl (5.9 MB)\r\n",
            "\u001b[K     |████████████████████████████████| 5.9 MB 17.5 MB/s \r\n",
            "\u001b[?25hRequirement already satisfied: packaging in /opt/conda/lib/python3.7/site-packages (from fastai2) (20.1)\r\n",
            "Requirement already satisfied: chardet<4,>=3.0.2 in /opt/conda/lib/python3.7/site-packages (from requests->fastai2) (3.0.4)\r\n",
            "Requirement already satisfied: urllib3!=1.25.0,!=1.25.1,<1.26,>=1.21.1 in /opt/conda/lib/python3.7/site-packages (from requests->fastai2) (1.24.3)\r\n",
            "Requirement already satisfied: certifi>=2017.4.17 in /opt/conda/lib/python3.7/site-packages (from requests->fastai2) (2020.6.20)\r\n",
            "Requirement already satisfied: idna<3,>=2.5 in /opt/conda/lib/python3.7/site-packages (from requests->fastai2) (2.9)\r\n",
            "Requirement already satisfied: preshed<3.1.0,>=3.0.2 in /opt/conda/lib/python3.7/site-packages (from spacy->fastai2) (3.0.2)\r\n",
            "Requirement already satisfied: setuptools in /opt/conda/lib/python3.7/site-packages (from spacy->fastai2) (46.1.3.post20200325)\r\n",
            "Requirement already satisfied: blis<0.5.0,>=0.4.0 in /opt/conda/lib/python3.7/site-packages (from spacy->fastai2) (0.4.1)\r\n",
            "Requirement already satisfied: wasabi<1.1.0,>=0.4.0 in /opt/conda/lib/python3.7/site-packages (from spacy->fastai2) (0.8.0)\r\n",
            "Requirement already satisfied: srsly<1.1.0,>=1.0.2 in /opt/conda/lib/python3.7/site-packages (from spacy->fastai2) (1.0.2)\r\n",
            "Requirement already satisfied: tqdm<5.0.0,>=4.38.0 in /opt/conda/lib/python3.7/site-packages (from spacy->fastai2) (4.45.0)\r\n",
            "Requirement already satisfied: plac<1.2.0,>=0.9.6 in /opt/conda/lib/python3.7/site-packages (from spacy->fastai2) (1.1.3)\r\n",
            "Requirement already satisfied: catalogue<1.1.0,>=0.0.7 in /opt/conda/lib/python3.7/site-packages (from spacy->fastai2) (1.0.0)\r\n",
            "Requirement already satisfied: numpy>=1.15.0 in /opt/conda/lib/python3.7/site-packages (from spacy->fastai2) (1.18.5)\r\n",
            "Requirement already satisfied: cymem<2.1.0,>=2.0.2 in /opt/conda/lib/python3.7/site-packages (from spacy->fastai2) (2.0.3)\r\n",
            "Requirement already satisfied: thinc==7.4.0 in /opt/conda/lib/python3.7/site-packages (from spacy->fastai2) (7.4.0)\r\n",
            "Requirement already satisfied: murmurhash<1.1.0,>=0.28.0 in /opt/conda/lib/python3.7/site-packages (from spacy->fastai2) (1.0.2)\r\n",
            "Requirement already satisfied: pytz>=2017.2 in /opt/conda/lib/python3.7/site-packages (from pandas->fastai2) (2019.3)\r\n",
            "Requirement already satisfied: python-dateutil>=2.7.3 in /opt/conda/lib/python3.7/site-packages (from pandas->fastai2) (2.8.1)\r\n",
            "Requirement already satisfied: kiwisolver>=1.0.1 in /opt/conda/lib/python3.7/site-packages (from matplotlib->fastai2) (1.2.0)\r\n",
            "Requirement already satisfied: cycler>=0.10 in /opt/conda/lib/python3.7/site-packages (from matplotlib->fastai2) (0.10.0)\r\n",
            "Requirement already satisfied: pyparsing!=2.0.4,!=2.1.2,!=2.1.6,>=2.0.1 in /opt/conda/lib/python3.7/site-packages (from matplotlib->fastai2) (2.4.7)\r\n",
            "Requirement already satisfied: threadpoolctl>=2.0.0 in /opt/conda/lib/python3.7/site-packages (from scikit-learn->fastai2) (2.1.0)\r\n",
            "Requirement already satisfied: joblib>=0.11 in /opt/conda/lib/python3.7/site-packages (from scikit-learn->fastai2) (0.14.1)\r\n",
            "Requirement already satisfied: future in /opt/conda/lib/python3.7/site-packages (from torch>=1.6.0->fastai2) (0.18.2)\r\n",
            "Requirement already satisfied: six in /opt/conda/lib/python3.7/site-packages (from packaging->fastai2) (1.14.0)\r\n",
            "Requirement already satisfied: importlib-metadata>=0.20; python_version < \"3.8\" in /opt/conda/lib/python3.7/site-packages (from catalogue<1.1.0,>=0.0.7->spacy->fastai2) (1.7.0)\r\n",
            "Requirement already satisfied: zipp>=0.5 in /opt/conda/lib/python3.7/site-packages (from importlib-metadata>=0.20; python_version < \"3.8\"->catalogue<1.1.0,>=0.0.7->spacy->fastai2) (3.1.0)\r\n",
            "Installing collected packages: fastcore, torch, torchvision, fastai2\r\n",
            "  Attempting uninstall: torch\r\n",
            "    Found existing installation: torch 1.5.1\r\n",
            "    Uninstalling torch-1.5.1:\r\n",
            "      Successfully uninstalled torch-1.5.1\r\n",
            "  Attempting uninstall: torchvision\r\n",
            "    Found existing installation: torchvision 0.6.0a0+35d732a\r\n",
            "    Uninstalling torchvision-0.6.0a0+35d732a:\r\n",
            "      Successfully uninstalled torchvision-0.6.0a0+35d732a\r\n",
            "\u001b[31mERROR: After October 2020 you may experience errors when installing or updating packages. This is because pip will change the way that it resolves dependency conflicts.\r\n",
            "\r\n",
            "We recommend you use --use-feature=2020-resolver to test your packages with the new resolver before it becomes the default.\r\n",
            "\r\n",
            "kornia 0.3.2 requires torch<1.6.0,>=1.5.0, but you'll have torch 1.6.0 which is incompatible.\r\n",
            "allennlp 1.0.0 requires torch<1.6.0,>=1.5.0, but you'll have torch 1.6.0 which is incompatible.\u001b[0m\r\n",
            "Successfully installed fastai2-0.0.30 fastcore-1.0.9 torch-1.6.0 torchvision-0.7.0\r\n",
            "\u001b[33mWARNING: You are using pip version 20.2.2; however, version 20.2.3 is available.\r\n",
            "You should consider upgrading via the '/opt/conda/bin/python3.7 -m pip install --upgrade pip' command.\u001b[0m\r\n"
          ],
          "name": "stdout"
        }
      ]
    },
    {
      "cell_type": "code",
      "metadata": {
        "execution": {
          "iopub.execute_input": "2020-09-13T12:21:35.041583Z",
          "iopub.status.busy": "2020-09-13T12:21:35.033270Z",
          "iopub.status.idle": "2020-09-13T12:21:43.315561Z",
          "shell.execute_reply": "2020-09-13T12:21:43.314985Z"
        },
        "papermill": {
          "duration": 8.759986,
          "end_time": "2020-09-13T12:21:43.315691",
          "exception": false,
          "start_time": "2020-09-13T12:21:34.555705",
          "status": "completed"
        },
        "tags": [],
        "id": "olWLFB6fU_4B",
        "outputId": "86094ea5-3d57-46a3-e5ee-22099faa8ea2"
      },
      "source": [
        "#hide_output\n",
        "!pip install fastcore==0.1.35 ##Currently supported with fastai2"
      ],
      "execution_count": null,
      "outputs": [
        {
          "output_type": "stream",
          "text": [
            "Collecting fastcore==0.1.35\r\n",
            "  Downloading fastcore-0.1.35-py3-none-any.whl (31 kB)\r\n",
            "Requirement already satisfied: pip in /opt/conda/lib/python3.7/site-packages (from fastcore==0.1.35) (20.2.2)\r\n",
            "Requirement already satisfied: packaging in /opt/conda/lib/python3.7/site-packages (from fastcore==0.1.35) (20.1)\r\n",
            "Requirement already satisfied: numpy in /opt/conda/lib/python3.7/site-packages (from fastcore==0.1.35) (1.18.5)\r\n",
            "Collecting dataclasses\r\n",
            "  Downloading dataclasses-0.6-py3-none-any.whl (14 kB)\r\n",
            "Requirement already satisfied: pyparsing>=2.0.2 in /opt/conda/lib/python3.7/site-packages (from packaging->fastcore==0.1.35) (2.4.7)\r\n",
            "Requirement already satisfied: six in /opt/conda/lib/python3.7/site-packages (from packaging->fastcore==0.1.35) (1.14.0)\r\n",
            "Installing collected packages: dataclasses, fastcore\r\n",
            "  Attempting uninstall: fastcore\r\n",
            "    Found existing installation: fastcore 1.0.9\r\n",
            "    Uninstalling fastcore-1.0.9:\r\n",
            "      Successfully uninstalled fastcore-1.0.9\r\n",
            "Successfully installed dataclasses-0.6 fastcore-0.1.35\r\n",
            "\u001b[33mWARNING: You are using pip version 20.2.2; however, version 20.2.3 is available.\r\n",
            "You should consider upgrading via the '/opt/conda/bin/python3.7 -m pip install --upgrade pip' command.\u001b[0m\r\n"
          ],
          "name": "stdout"
        }
      ]
    },
    {
      "cell_type": "code",
      "metadata": {
        "execution": {
          "iopub.execute_input": "2020-09-13T12:21:44.229975Z",
          "iopub.status.busy": "2020-09-13T12:21:44.229153Z",
          "iopub.status.idle": "2020-09-13T12:21:44.237452Z",
          "shell.execute_reply": "2020-09-13T12:21:44.238085Z"
        },
        "papermill": {
          "duration": 0.467432,
          "end_time": "2020-09-13T12:21:44.238227",
          "exception": false,
          "start_time": "2020-09-13T12:21:43.770795",
          "status": "completed"
        },
        "tags": [],
        "id": "9ECT4FMsU_4d",
        "outputId": "57894841-3156-4783-b4af-dbb8ffd6ae00"
      },
      "source": [
        "import fastcore\n",
        "fastcore.__version__"
      ],
      "execution_count": null,
      "outputs": [
        {
          "output_type": "execute_result",
          "data": {
            "text/plain": [
              "'0.1.35'"
            ]
          },
          "metadata": {
            "tags": []
          },
          "execution_count": 4
        }
      ]
    },
    {
      "cell_type": "code",
      "metadata": {
        "execution": {
          "iopub.execute_input": "2020-09-13T12:21:45.148334Z",
          "iopub.status.busy": "2020-09-13T12:21:45.147137Z",
          "iopub.status.idle": "2020-09-13T12:21:45.152254Z",
          "shell.execute_reply": "2020-09-13T12:21:45.152954Z"
        },
        "papermill": {
          "duration": 0.464745,
          "end_time": "2020-09-13T12:21:45.153102",
          "exception": false,
          "start_time": "2020-09-13T12:21:44.688357",
          "status": "completed"
        },
        "tags": [],
        "id": "2ulAELOsU_43",
        "outputId": "40ef8620-eb47-48d1-cb4d-af957c81d43e"
      },
      "source": [
        "import fastai2\n",
        "fastai2.__version__"
      ],
      "execution_count": null,
      "outputs": [
        {
          "output_type": "execute_result",
          "data": {
            "text/plain": [
              "'0.0.30'"
            ]
          },
          "metadata": {
            "tags": []
          },
          "execution_count": 5
        }
      ]
    },
    {
      "cell_type": "markdown",
      "metadata": {
        "papermill": {
          "duration": 0.496104,
          "end_time": "2020-09-13T12:21:46.158022",
          "exception": false,
          "start_time": "2020-09-13T12:21:45.661918",
          "status": "completed"
        },
        "tags": [],
        "id": "_IdDTQLhU_5I"
      },
      "source": [
        "#  Importing and Loading files"
      ]
    },
    {
      "cell_type": "markdown",
      "metadata": {
        "id": "S_gqlmJ6mp2B"
      },
      "source": [
        "Now, starting with importing the intended modules. "
      ]
    },
    {
      "cell_type": "code",
      "metadata": {
        "execution": {
          "iopub.execute_input": "2020-09-13T12:21:47.155609Z",
          "iopub.status.busy": "2020-09-13T12:21:47.154466Z",
          "iopub.status.idle": "2020-09-13T12:21:49.171289Z",
          "shell.execute_reply": "2020-09-13T12:21:49.170015Z"
        },
        "papermill": {
          "duration": 2.485573,
          "end_time": "2020-09-13T12:21:49.171462",
          "exception": false,
          "start_time": "2020-09-13T12:21:46.685889",
          "status": "completed"
        },
        "tags": [],
        "id": "u7O_yjFfU_5M"
      },
      "source": [
        "from fastai2.tabular.all import *"
      ],
      "execution_count": null,
      "outputs": []
    },
    {
      "cell_type": "code",
      "metadata": {
        "execution": {
          "iopub.execute_input": "2020-09-13T12:21:50.127590Z",
          "iopub.status.busy": "2020-09-13T12:21:50.126836Z",
          "iopub.status.idle": "2020-09-13T12:21:50.200338Z",
          "shell.execute_reply": "2020-09-13T12:21:50.199655Z"
        },
        "papermill": {
          "duration": 0.555087,
          "end_time": "2020-09-13T12:21:50.200474",
          "exception": false,
          "start_time": "2020-09-13T12:21:49.645387",
          "status": "completed"
        },
        "tags": [],
        "id": "df4PiH4MU_5Z",
        "outputId": "4e038c29-4835-4215-f70f-00701e8d4ff5"
      },
      "source": [
        "#collapse-hide\n",
        "df_test= pd.read_csv('/kaggle/input/titanic-extended/test.csv')\n",
        "df_train= pd.read_csv('../input/titanic-extended/train.csv')\n",
        "df_train.head()"
      ],
      "execution_count": null,
      "outputs": [
        {
          "output_type": "execute_result",
          "data": {
            "text/html": [
              "<div>\n",
              "<style scoped>\n",
              "    .dataframe tbody tr th:only-of-type {\n",
              "        vertical-align: middle;\n",
              "    }\n",
              "\n",
              "    .dataframe tbody tr th {\n",
              "        vertical-align: top;\n",
              "    }\n",
              "\n",
              "    .dataframe thead th {\n",
              "        text-align: right;\n",
              "    }\n",
              "</style>\n",
              "<table border=\"1\" class=\"dataframe\">\n",
              "  <thead>\n",
              "    <tr style=\"text-align: right;\">\n",
              "      <th></th>\n",
              "      <th>PassengerId</th>\n",
              "      <th>Survived</th>\n",
              "      <th>Pclass</th>\n",
              "      <th>Name</th>\n",
              "      <th>Sex</th>\n",
              "      <th>Age</th>\n",
              "      <th>SibSp</th>\n",
              "      <th>Parch</th>\n",
              "      <th>Ticket</th>\n",
              "      <th>Fare</th>\n",
              "      <th>...</th>\n",
              "      <th>Embarked</th>\n",
              "      <th>WikiId</th>\n",
              "      <th>Name_wiki</th>\n",
              "      <th>Age_wiki</th>\n",
              "      <th>Hometown</th>\n",
              "      <th>Boarded</th>\n",
              "      <th>Destination</th>\n",
              "      <th>Lifeboat</th>\n",
              "      <th>Body</th>\n",
              "      <th>Class</th>\n",
              "    </tr>\n",
              "  </thead>\n",
              "  <tbody>\n",
              "    <tr>\n",
              "      <th>0</th>\n",
              "      <td>1</td>\n",
              "      <td>0.0</td>\n",
              "      <td>3</td>\n",
              "      <td>Braund, Mr. Owen Harris</td>\n",
              "      <td>male</td>\n",
              "      <td>22.0</td>\n",
              "      <td>1</td>\n",
              "      <td>0</td>\n",
              "      <td>A/5 21171</td>\n",
              "      <td>7.2500</td>\n",
              "      <td>...</td>\n",
              "      <td>S</td>\n",
              "      <td>691.0</td>\n",
              "      <td>Braund, Mr. Owen Harris</td>\n",
              "      <td>22.0</td>\n",
              "      <td>Bridgerule, Devon, England</td>\n",
              "      <td>Southampton</td>\n",
              "      <td>Qu'Appelle Valley, Saskatchewan, Canada</td>\n",
              "      <td>NaN</td>\n",
              "      <td>NaN</td>\n",
              "      <td>3.0</td>\n",
              "    </tr>\n",
              "    <tr>\n",
              "      <th>1</th>\n",
              "      <td>2</td>\n",
              "      <td>1.0</td>\n",
              "      <td>1</td>\n",
              "      <td>Cumings, Mrs. John Bradley (Florence Briggs Thayer)</td>\n",
              "      <td>female</td>\n",
              "      <td>38.0</td>\n",
              "      <td>1</td>\n",
              "      <td>0</td>\n",
              "      <td>PC 17599</td>\n",
              "      <td>71.2833</td>\n",
              "      <td>...</td>\n",
              "      <td>C</td>\n",
              "      <td>90.0</td>\n",
              "      <td>Cumings, Mrs. Florence Briggs (née Thayer)</td>\n",
              "      <td>35.0</td>\n",
              "      <td>New York, New York, US</td>\n",
              "      <td>Cherbourg</td>\n",
              "      <td>New York, New York, US</td>\n",
              "      <td>4</td>\n",
              "      <td>NaN</td>\n",
              "      <td>1.0</td>\n",
              "    </tr>\n",
              "    <tr>\n",
              "      <th>2</th>\n",
              "      <td>3</td>\n",
              "      <td>1.0</td>\n",
              "      <td>3</td>\n",
              "      <td>Heikkinen, Miss. Laina</td>\n",
              "      <td>female</td>\n",
              "      <td>26.0</td>\n",
              "      <td>0</td>\n",
              "      <td>0</td>\n",
              "      <td>STON/O2. 3101282</td>\n",
              "      <td>7.9250</td>\n",
              "      <td>...</td>\n",
              "      <td>S</td>\n",
              "      <td>865.0</td>\n",
              "      <td>Heikkinen, Miss Laina</td>\n",
              "      <td>26.0</td>\n",
              "      <td>Jyväskylä, Finland</td>\n",
              "      <td>Southampton</td>\n",
              "      <td>New York City</td>\n",
              "      <td>14?</td>\n",
              "      <td>NaN</td>\n",
              "      <td>3.0</td>\n",
              "    </tr>\n",
              "    <tr>\n",
              "      <th>3</th>\n",
              "      <td>4</td>\n",
              "      <td>1.0</td>\n",
              "      <td>1</td>\n",
              "      <td>Futrelle, Mrs. Jacques Heath (Lily May Peel)</td>\n",
              "      <td>female</td>\n",
              "      <td>35.0</td>\n",
              "      <td>1</td>\n",
              "      <td>0</td>\n",
              "      <td>113803</td>\n",
              "      <td>53.1000</td>\n",
              "      <td>...</td>\n",
              "      <td>S</td>\n",
              "      <td>127.0</td>\n",
              "      <td>Futrelle, Mrs. Lily May (née Peel)</td>\n",
              "      <td>35.0</td>\n",
              "      <td>Scituate, Massachusetts, US</td>\n",
              "      <td>Southampton</td>\n",
              "      <td>Scituate, Massachusetts, US</td>\n",
              "      <td>D</td>\n",
              "      <td>NaN</td>\n",
              "      <td>1.0</td>\n",
              "    </tr>\n",
              "    <tr>\n",
              "      <th>4</th>\n",
              "      <td>5</td>\n",
              "      <td>0.0</td>\n",
              "      <td>3</td>\n",
              "      <td>Allen, Mr. William Henry</td>\n",
              "      <td>male</td>\n",
              "      <td>35.0</td>\n",
              "      <td>0</td>\n",
              "      <td>0</td>\n",
              "      <td>373450</td>\n",
              "      <td>8.0500</td>\n",
              "      <td>...</td>\n",
              "      <td>S</td>\n",
              "      <td>627.0</td>\n",
              "      <td>Allen, Mr. William Henry</td>\n",
              "      <td>35.0</td>\n",
              "      <td>Birmingham, West Midlands, England</td>\n",
              "      <td>Southampton</td>\n",
              "      <td>New York City</td>\n",
              "      <td>NaN</td>\n",
              "      <td>NaN</td>\n",
              "      <td>3.0</td>\n",
              "    </tr>\n",
              "  </tbody>\n",
              "</table>\n",
              "<p>5 rows × 21 columns</p>\n",
              "</div>"
            ],
            "text/plain": [
              "   PassengerId  Survived  Pclass  \\\n",
              "0            1       0.0       3   \n",
              "1            2       1.0       1   \n",
              "2            3       1.0       3   \n",
              "3            4       1.0       1   \n",
              "4            5       0.0       3   \n",
              "\n",
              "                                                  Name     Sex   Age  SibSp  \\\n",
              "0                              Braund, Mr. Owen Harris    male  22.0      1   \n",
              "1  Cumings, Mrs. John Bradley (Florence Briggs Thayer)  female  38.0      1   \n",
              "2                               Heikkinen, Miss. Laina  female  26.0      0   \n",
              "3         Futrelle, Mrs. Jacques Heath (Lily May Peel)  female  35.0      1   \n",
              "4                             Allen, Mr. William Henry    male  35.0      0   \n",
              "\n",
              "   Parch            Ticket     Fare  ... Embarked WikiId  \\\n",
              "0      0         A/5 21171   7.2500  ...        S  691.0   \n",
              "1      0          PC 17599  71.2833  ...        C   90.0   \n",
              "2      0  STON/O2. 3101282   7.9250  ...        S  865.0   \n",
              "3      0            113803  53.1000  ...        S  127.0   \n",
              "4      0            373450   8.0500  ...        S  627.0   \n",
              "\n",
              "                                    Name_wiki Age_wiki  \\\n",
              "0                     Braund, Mr. Owen Harris     22.0   \n",
              "1  Cumings, Mrs. Florence Briggs (née Thayer)     35.0   \n",
              "2                       Heikkinen, Miss Laina     26.0   \n",
              "3          Futrelle, Mrs. Lily May (née Peel)     35.0   \n",
              "4                    Allen, Mr. William Henry     35.0   \n",
              "\n",
              "                             Hometown      Boarded  \\\n",
              "0          Bridgerule, Devon, England  Southampton   \n",
              "1              New York, New York, US    Cherbourg   \n",
              "2                  Jyväskylä, Finland  Southampton   \n",
              "3         Scituate, Massachusetts, US  Southampton   \n",
              "4  Birmingham, West Midlands, England  Southampton   \n",
              "\n",
              "                               Destination Lifeboat Body Class  \n",
              "0  Qu'Appelle Valley, Saskatchewan, Canada      NaN  NaN   3.0  \n",
              "1                   New York, New York, US        4  NaN   1.0  \n",
              "2                            New York City      14?  NaN   3.0  \n",
              "3              Scituate, Massachusetts, US        D  NaN   1.0  \n",
              "4                            New York City      NaN  NaN   3.0  \n",
              "\n",
              "[5 rows x 21 columns]"
            ]
          },
          "metadata": {
            "tags": []
          },
          "execution_count": 7
        }
      ]
    },
    {
      "cell_type": "markdown",
      "metadata": {
        "papermill": {
          "duration": 0.454917,
          "end_time": "2020-09-13T12:21:51.107685",
          "exception": false,
          "start_time": "2020-09-13T12:21:50.652768",
          "status": "completed"
        },
        "tags": [],
        "id": "nP4xcMcOU_5l"
      },
      "source": [
        "Just taking abit statistical look into data."
      ]
    },
    {
      "cell_type": "code",
      "metadata": {
        "execution": {
          "iopub.execute_input": "2020-09-13T12:21:52.150453Z",
          "iopub.status.busy": "2020-09-13T12:21:52.149345Z",
          "iopub.status.idle": "2020-09-13T12:21:52.223504Z",
          "shell.execute_reply": "2020-09-13T12:21:52.224065Z"
        },
        "papermill": {
          "duration": 0.602751,
          "end_time": "2020-09-13T12:21:52.224228",
          "exception": false,
          "start_time": "2020-09-13T12:21:51.621477",
          "status": "completed"
        },
        "tags": [],
        "id": "fWvLvXqvU_5p",
        "outputId": "b707de6e-afc2-43b0-92a8-2bf5326e06ac"
      },
      "source": [
        "df_train.describe()"
      ],
      "execution_count": null,
      "outputs": [
        {
          "output_type": "execute_result",
          "data": {
            "text/html": [
              "<div>\n",
              "<style scoped>\n",
              "    .dataframe tbody tr th:only-of-type {\n",
              "        vertical-align: middle;\n",
              "    }\n",
              "\n",
              "    .dataframe tbody tr th {\n",
              "        vertical-align: top;\n",
              "    }\n",
              "\n",
              "    .dataframe thead th {\n",
              "        text-align: right;\n",
              "    }\n",
              "</style>\n",
              "<table border=\"1\" class=\"dataframe\">\n",
              "  <thead>\n",
              "    <tr style=\"text-align: right;\">\n",
              "      <th></th>\n",
              "      <th>PassengerId</th>\n",
              "      <th>Survived</th>\n",
              "      <th>Pclass</th>\n",
              "      <th>Age</th>\n",
              "      <th>SibSp</th>\n",
              "      <th>Parch</th>\n",
              "      <th>Fare</th>\n",
              "      <th>WikiId</th>\n",
              "      <th>Age_wiki</th>\n",
              "      <th>Class</th>\n",
              "    </tr>\n",
              "  </thead>\n",
              "  <tbody>\n",
              "    <tr>\n",
              "      <th>count</th>\n",
              "      <td>891.000000</td>\n",
              "      <td>891.000000</td>\n",
              "      <td>891.000000</td>\n",
              "      <td>714.000000</td>\n",
              "      <td>891.000000</td>\n",
              "      <td>891.000000</td>\n",
              "      <td>891.000000</td>\n",
              "      <td>889.000000</td>\n",
              "      <td>887.000000</td>\n",
              "      <td>889.000000</td>\n",
              "    </tr>\n",
              "    <tr>\n",
              "      <th>mean</th>\n",
              "      <td>446.000000</td>\n",
              "      <td>0.383838</td>\n",
              "      <td>2.308642</td>\n",
              "      <td>29.699118</td>\n",
              "      <td>0.523008</td>\n",
              "      <td>0.381594</td>\n",
              "      <td>32.204208</td>\n",
              "      <td>665.466817</td>\n",
              "      <td>29.322063</td>\n",
              "      <td>2.307087</td>\n",
              "    </tr>\n",
              "    <tr>\n",
              "      <th>std</th>\n",
              "      <td>257.353842</td>\n",
              "      <td>0.486592</td>\n",
              "      <td>0.836071</td>\n",
              "      <td>14.526497</td>\n",
              "      <td>1.102743</td>\n",
              "      <td>0.806057</td>\n",
              "      <td>49.693429</td>\n",
              "      <td>380.796997</td>\n",
              "      <td>13.930089</td>\n",
              "      <td>0.837713</td>\n",
              "    </tr>\n",
              "    <tr>\n",
              "      <th>min</th>\n",
              "      <td>1.000000</td>\n",
              "      <td>0.000000</td>\n",
              "      <td>1.000000</td>\n",
              "      <td>0.420000</td>\n",
              "      <td>0.000000</td>\n",
              "      <td>0.000000</td>\n",
              "      <td>0.000000</td>\n",
              "      <td>1.000000</td>\n",
              "      <td>0.420000</td>\n",
              "      <td>1.000000</td>\n",
              "    </tr>\n",
              "    <tr>\n",
              "      <th>25%</th>\n",
              "      <td>223.500000</td>\n",
              "      <td>0.000000</td>\n",
              "      <td>2.000000</td>\n",
              "      <td>20.125000</td>\n",
              "      <td>0.000000</td>\n",
              "      <td>0.000000</td>\n",
              "      <td>7.910400</td>\n",
              "      <td>336.000000</td>\n",
              "      <td>20.000000</td>\n",
              "      <td>2.000000</td>\n",
              "    </tr>\n",
              "    <tr>\n",
              "      <th>50%</th>\n",
              "      <td>446.000000</td>\n",
              "      <td>0.000000</td>\n",
              "      <td>3.000000</td>\n",
              "      <td>28.000000</td>\n",
              "      <td>0.000000</td>\n",
              "      <td>0.000000</td>\n",
              "      <td>14.454200</td>\n",
              "      <td>672.000000</td>\n",
              "      <td>28.000000</td>\n",
              "      <td>3.000000</td>\n",
              "    </tr>\n",
              "    <tr>\n",
              "      <th>75%</th>\n",
              "      <td>668.500000</td>\n",
              "      <td>1.000000</td>\n",
              "      <td>3.000000</td>\n",
              "      <td>38.000000</td>\n",
              "      <td>1.000000</td>\n",
              "      <td>0.000000</td>\n",
              "      <td>31.000000</td>\n",
              "      <td>996.000000</td>\n",
              "      <td>38.000000</td>\n",
              "      <td>3.000000</td>\n",
              "    </tr>\n",
              "    <tr>\n",
              "      <th>max</th>\n",
              "      <td>891.000000</td>\n",
              "      <td>1.000000</td>\n",
              "      <td>3.000000</td>\n",
              "      <td>80.000000</td>\n",
              "      <td>8.000000</td>\n",
              "      <td>6.000000</td>\n",
              "      <td>512.329200</td>\n",
              "      <td>1314.000000</td>\n",
              "      <td>74.000000</td>\n",
              "      <td>3.000000</td>\n",
              "    </tr>\n",
              "  </tbody>\n",
              "</table>\n",
              "</div>"
            ],
            "text/plain": [
              "       PassengerId    Survived      Pclass         Age       SibSp  \\\n",
              "count   891.000000  891.000000  891.000000  714.000000  891.000000   \n",
              "mean    446.000000    0.383838    2.308642   29.699118    0.523008   \n",
              "std     257.353842    0.486592    0.836071   14.526497    1.102743   \n",
              "min       1.000000    0.000000    1.000000    0.420000    0.000000   \n",
              "25%     223.500000    0.000000    2.000000   20.125000    0.000000   \n",
              "50%     446.000000    0.000000    3.000000   28.000000    0.000000   \n",
              "75%     668.500000    1.000000    3.000000   38.000000    1.000000   \n",
              "max     891.000000    1.000000    3.000000   80.000000    8.000000   \n",
              "\n",
              "            Parch        Fare       WikiId    Age_wiki       Class  \n",
              "count  891.000000  891.000000   889.000000  887.000000  889.000000  \n",
              "mean     0.381594   32.204208   665.466817   29.322063    2.307087  \n",
              "std      0.806057   49.693429   380.796997   13.930089    0.837713  \n",
              "min      0.000000    0.000000     1.000000    0.420000    1.000000  \n",
              "25%      0.000000    7.910400   336.000000   20.000000    2.000000  \n",
              "50%      0.000000   14.454200   672.000000   28.000000    3.000000  \n",
              "75%      0.000000   31.000000   996.000000   38.000000    3.000000  \n",
              "max      6.000000  512.329200  1314.000000   74.000000    3.000000  "
            ]
          },
          "metadata": {
            "tags": []
          },
          "execution_count": 8
        }
      ]
    },
    {
      "cell_type": "markdown",
      "metadata": {
        "papermill": {
          "duration": 0.461956,
          "end_time": "2020-09-13T12:21:53.189789",
          "exception": false,
          "start_time": "2020-09-13T12:21:52.727833",
          "status": "completed"
        },
        "tags": [],
        "id": "0eBzpaTTU_6A"
      },
      "source": [
        "Before proceeding with anything else. It's important to check, if our data contains any missing values or not. For Calculating the average null values we have in our data. It is important to know. Just to get intuition about data "
      ]
    },
    {
      "cell_type": "code",
      "metadata": {
        "execution": {
          "iopub.execute_input": "2020-09-13T12:21:54.108398Z",
          "iopub.status.busy": "2020-09-13T12:21:54.103716Z",
          "iopub.status.idle": "2020-09-13T12:21:54.118642Z",
          "shell.execute_reply": "2020-09-13T12:21:54.119222Z"
        },
        "papermill": {
          "duration": 0.476045,
          "end_time": "2020-09-13T12:21:54.119380",
          "exception": false,
          "start_time": "2020-09-13T12:21:53.643335",
          "status": "completed"
        },
        "tags": [],
        "id": "3b9V01BWU_6E",
        "outputId": "c828586e-d8d7-4ba2-c856-a585f362d498"
      },
      "source": [
        "#collapse-hide\n",
        "df_train.isnull().sum().sort_index()/len(df_train)"
      ],
      "execution_count": null,
      "outputs": [
        {
          "output_type": "execute_result",
          "data": {
            "text/plain": [
              "Age            0.198653\n",
              "Age_wiki       0.004489\n",
              "Boarded        0.002245\n",
              "Body           0.902357\n",
              "Cabin          0.771044\n",
              "Class          0.002245\n",
              "Destination    0.002245\n",
              "Embarked       0.002245\n",
              "Fare           0.000000\n",
              "Hometown       0.002245\n",
              "Lifeboat       0.612795\n",
              "Name           0.000000\n",
              "Name_wiki      0.002245\n",
              "Parch          0.000000\n",
              "PassengerId    0.000000\n",
              "Pclass         0.000000\n",
              "Sex            0.000000\n",
              "SibSp          0.000000\n",
              "Survived       0.000000\n",
              "Ticket         0.000000\n",
              "WikiId         0.002245\n",
              "dtype: float64"
            ]
          },
          "metadata": {
            "tags": []
          },
          "execution_count": 9
        }
      ]
    },
    {
      "cell_type": "markdown",
      "metadata": {
        "papermill": {
          "duration": 0.450671,
          "end_time": "2020-09-13T12:21:55.020952",
          "exception": false,
          "start_time": "2020-09-13T12:21:54.570281",
          "status": "completed"
        },
        "tags": [],
        "id": "KJb0vAlIU_6Q"
      },
      "source": [
        "Getting names of columns according to its datatype.\n",
        "\n",
        "This will allow us to understand which feature is int, float, and object(categorical)\n"
      ]
    },
    {
      "cell_type": "code",
      "metadata": {
        "execution": {
          "iopub.execute_input": "2020-09-13T12:21:55.957874Z",
          "iopub.status.busy": "2020-09-13T12:21:55.945700Z",
          "iopub.status.idle": "2020-09-13T12:21:55.961823Z",
          "shell.execute_reply": "2020-09-13T12:21:55.962403Z"
        },
        "papermill": {
          "duration": 0.488775,
          "end_time": "2020-09-13T12:21:55.962589",
          "exception": false,
          "start_time": "2020-09-13T12:21:55.473814",
          "status": "completed"
        },
        "tags": [],
        "id": "Pzo2WfjnU_6T",
        "outputId": "65849b51-f86e-4460-b417-069a38492fe2"
      },
      "source": [
        "#collapse-hide\n",
        "df_train.dtypes\n",
        "g_train =df_train.columns.to_series().groupby(df_train.dtypes).groups\n",
        "g_train"
      ],
      "execution_count": null,
      "outputs": [
        {
          "output_type": "execute_result",
          "data": {
            "text/plain": [
              "{int64: ['PassengerId', 'Pclass', 'SibSp', 'Parch'], float64: ['Survived', 'Age', 'Fare', 'WikiId', 'Age_wiki', 'Class'], object: ['Name', 'Sex', 'Ticket', 'Cabin', 'Embarked', 'Name_wiki', 'Hometown', 'Boarded', 'Destination', 'Lifeboat', 'Body']}"
            ]
          },
          "metadata": {
            "tags": []
          },
          "execution_count": 10
        }
      ]
    },
    {
      "cell_type": "markdown",
      "metadata": {
        "papermill": {
          "duration": 0.499714,
          "end_time": "2020-09-13T12:21:56.934117",
          "exception": false,
          "start_time": "2020-09-13T12:21:56.434403",
          "status": "completed"
        },
        "tags": [],
        "id": "QPwPu3nTU_6p"
      },
      "source": [
        "Now this might be a bit puzzling if you are new to fastai. And its completely alright.\n",
        "\n",
        "cat_names refers to the features which are categorical.\n",
        "\n",
        "cont_names refers to the features which are continuous. For example : int and float\n",
        "\n",
        "fastai needs them in order to do preprocessing for you properly\n"
      ]
    },
    {
      "cell_type": "code",
      "metadata": {
        "execution": {
          "iopub.execute_input": "2020-09-13T12:21:57.847061Z",
          "iopub.status.busy": "2020-09-13T12:21:57.845968Z",
          "iopub.status.idle": "2020-09-13T12:21:57.852490Z",
          "shell.execute_reply": "2020-09-13T12:21:57.853093Z"
        },
        "papermill": {
          "duration": 0.467834,
          "end_time": "2020-09-13T12:21:57.853264",
          "exception": false,
          "start_time": "2020-09-13T12:21:57.385430",
          "status": "completed"
        },
        "tags": [],
        "id": "Vm7RudYAU_6r"
      },
      "source": [
        "cat_names= [\n",
        "        'Name', 'Sex', 'Ticket', 'Cabin', \n",
        "        'Embarked', 'Name_wiki', 'Hometown', \n",
        "        'Boarded', 'Destination', 'Lifeboat', \n",
        "        'Body'\n",
        "]\n",
        "\n",
        "cont_names = [ \n",
        "    'PassengerId', 'Pclass', 'SibSp', 'Parch', \n",
        "    'Age', 'Fare', 'WikiId', 'Age_wiki','Class'\n",
        " ]\n",
        "\n"
      ],
      "execution_count": null,
      "outputs": []
    },
    {
      "cell_type": "markdown",
      "metadata": {
        "papermill": {
          "duration": 0.448209,
          "end_time": "2020-09-13T12:21:58.750903",
          "exception": false,
          "start_time": "2020-09-13T12:21:58.302694",
          "status": "completed"
        },
        "tags": [],
        "id": "kCXUhxNKU_7A"
      },
      "source": [
        "# FastAI2\n",
        "\n",
        "now we are diving into fastai2. looking down at code. Might be new and intimidating. But no worries,\n",
        "following the documentation helped me. https://docs.fast.ai/tutorial.tabular\n",
        "\n",
        " "
      ]
    },
    {
      "cell_type": "code",
      "metadata": {
        "execution": {
          "iopub.execute_input": "2020-09-13T12:21:59.652747Z",
          "iopub.status.busy": "2020-09-13T12:21:59.651656Z",
          "iopub.status.idle": "2020-09-13T12:21:59.748868Z",
          "shell.execute_reply": "2020-09-13T12:21:59.748128Z"
        },
        "papermill": {
          "duration": 0.547238,
          "end_time": "2020-09-13T12:21:59.748998",
          "exception": false,
          "start_time": "2020-09-13T12:21:59.201760",
          "status": "completed"
        },
        "tags": [],
        "id": "_cQclfUvU_7E"
      },
      "source": [
        "splits = RandomSplitter(valid_pct=0.2)(range_of(df_train))\n",
        "\n",
        "to = TabularPandas(df_train, procs=[Categorify, FillMissing,Normalize],\n",
        "                   cat_names = cat_names,\n",
        "                   cont_names = cont_names,\n",
        "                   y_names='Survived',\n",
        "                   splits=splits)"
      ],
      "execution_count": null,
      "outputs": []
    },
    {
      "cell_type": "markdown",
      "metadata": {
        "id": "XpPkTEcounqn"
      },
      "source": [
        "Here we are using fastai TabularPandas library. Which will do all the preprocessing for us.\n",
        "before that splitting our data into validation set to have a fair amount of idea that we are not overfitting the data. valid_pct= 0.2 means (as you may have guessed by now) it means 20% validation data.\n",
        "\n",
        "y_names, using column we are `target to be predicted`.\n",
        "procs are [Categorify, FillMissing,Normalize], Convering objects into category, filling the missing value and normalizing the content for quick processing.\n",
        "\n",
        "\n",
        " > Note: Tabularpandas function creates a new column if there is any missing value spotted in any particular feature(only float or int column). for example: lets say Fare has a missing value somewhere. It will create a new column named 'Fare_na' where it will have integer values (1 or 2)."
      ]
    },
    {
      "cell_type": "code",
      "metadata": {
        "execution": {
          "iopub.execute_input": "2020-09-13T12:22:01.557483Z",
          "iopub.status.busy": "2020-09-13T12:22:01.556835Z",
          "iopub.status.idle": "2020-09-13T12:22:01.566238Z",
          "shell.execute_reply": "2020-09-13T12:22:01.566870Z"
        },
        "papermill": {
          "duration": 0.469865,
          "end_time": "2020-09-13T12:22:01.567021",
          "exception": false,
          "start_time": "2020-09-13T12:22:01.097156",
          "status": "completed"
        },
        "tags": [],
        "id": "Hd0tePbVU_7V",
        "outputId": "66e94a72-6a7e-4807-9b23-8412a81fe654"
      },
      "source": [
        "#collapse-hide\n",
        "\n",
        "g_train =to.train.xs.columns.to_series().groupby(to.train.xs.dtypes).groups\n",
        "g_train"
      ],
      "execution_count": null,
      "outputs": [
        {
          "output_type": "execute_result",
          "data": {
            "text/plain": [
              "{int8: ['Sex', 'Embarked', 'Boarded', 'Lifeboat', 'Body', 'Age_na', 'WikiId_na', 'Age_wiki_na', 'Class_na'], int16: ['Name', 'Ticket', 'Cabin', 'Name_wiki', 'Hometown', 'Destination'], float64: ['PassengerId', 'Pclass', 'SibSp', 'Parch', 'Age', 'Fare', 'WikiId', 'Age_wiki', 'Class']}"
            ]
          },
          "metadata": {
            "tags": []
          },
          "execution_count": 13
        }
      ]
    },
    {
      "cell_type": "markdown",
      "metadata": {
        "id": "MMEObSe9ur3W"
      },
      "source": [
        "Here you can see 'Age_na', 'WikiId_na', 'Age_wiki_na', 'Class_na' . Which were created becoz their columns had missing values"
      ]
    },
    {
      "cell_type": "markdown",
      "metadata": {
        "papermill": {
          "duration": 0.448565,
          "end_time": "2020-09-13T12:22:03.380255",
          "exception": false,
          "start_time": "2020-09-13T12:22:02.931690",
          "status": "completed"
        },
        "tags": [],
        "id": "CQwPtSxdU_7_"
      },
      "source": [
        "Generally what happens is, we cannot use the output of tabularpandas straightaway. So we need to access it as follows.. just taking peek at train data(for validation data replace train with valid)"
      ]
    },
    {
      "cell_type": "code",
      "metadata": {
        "execution": {
          "iopub.execute_input": "2020-09-13T12:22:02.467815Z",
          "iopub.status.busy": "2020-09-13T12:22:02.466987Z",
          "iopub.status.idle": "2020-09-13T12:22:02.478081Z",
          "shell.execute_reply": "2020-09-13T12:22:02.478744Z"
        },
        "papermill": {
          "duration": 0.463678,
          "end_time": "2020-09-13T12:22:02.478903",
          "exception": false,
          "start_time": "2020-09-13T12:22:02.015225",
          "status": "completed"
        },
        "tags": [],
        "id": "LsECh7wUU_7u",
        "outputId": "12e1a370-b964-4ac9-f809-6c8628b845e1"
      },
      "source": [
        "#hide\n",
        "to.train.xs.Age_na.head()"
      ],
      "execution_count": null,
      "outputs": [
        {
          "output_type": "execute_result",
          "data": {
            "text/plain": [
              "430    1\n",
              "158    2\n",
              "453    1\n",
              "750    1\n",
              "250    2\n",
              "Name: Age_na, dtype: int8"
            ]
          },
          "metadata": {
            "tags": []
          },
          "execution_count": 14
        }
      ]
    },
    {
      "cell_type": "code",
      "metadata": {
        "execution": {
          "iopub.execute_input": "2020-09-13T12:22:04.318545Z",
          "iopub.status.busy": "2020-09-13T12:22:04.314590Z",
          "iopub.status.idle": "2020-09-13T12:22:04.335881Z",
          "shell.execute_reply": "2020-09-13T12:22:04.336426Z"
        },
        "papermill": {
          "duration": 0.506251,
          "end_time": "2020-09-13T12:22:04.336587",
          "exception": false,
          "start_time": "2020-09-13T12:22:03.830336",
          "status": "completed"
        },
        "tags": [],
        "id": "PN7xllmVU_8B",
        "outputId": "d9602723-116f-4e97-8854-ca1d0d0d59fb"
      },
      "source": [
        "#collapse-show\n",
        "to.train"
      ],
      "execution_count": null,
      "outputs": [
        {
          "output_type": "execute_result",
          "data": {
            "text/plain": [
              "     PassengerId  Survived    Pclass  Name  Sex       Age     SibSp     Parch  \\\n",
              "430    -0.059897       1.0 -1.585850    93    2 -0.120416 -0.472176 -0.462981   \n",
              "158    -1.123753       0.0  0.827621   768    2 -0.120416 -0.472176 -0.462981   \n",
              "453     0.030061       1.0 -1.585850   291    2  1.492635  0.468220 -0.462981   \n",
              "750     1.191698       1.0 -0.379115   853    1 -1.963903  0.468220  0.811558   \n",
              "250    -0.763919       0.0  0.827621   674    2 -0.120416 -0.472176 -0.462981   \n",
              "..           ...       ...       ...   ...  ...       ...       ...       ...   \n",
              "867     1.649312       0.0 -1.585850   697    2  0.110020 -0.472176 -0.462981   \n",
              "193    -0.986860       1.0 -0.379115   580    2 -2.040715  0.468220  0.811558   \n",
              "14     -1.686971       0.0  0.827621   841    1 -1.195784 -0.472176 -0.462981   \n",
              "150    -1.155043       0.0 -0.379115    69    2  1.646259 -0.472176 -0.462981   \n",
              "580     0.526788       1.0 -0.379115   161    1 -0.350852  0.468220  0.811558   \n",
              "\n",
              "     Ticket      Fare  ...  Hometown  Boarded  Destination  Lifeboat  Body  \\\n",
              "430       4 -0.076707  ...       354        4          223        22     0   \n",
              "158     259 -0.525029  ...       300        4          148         0     0   \n",
              "453      85  1.491114  ...       291        2          149        13     0   \n",
              "750     235 -0.165683  ...       172        4            4         6     0   \n",
              "250     423 -0.560431  ...       293        4          148         0     0   \n",
              "..      ...       ...  ...       ...      ...          ...       ...   ...   \n",
              "867     591  0.523456  ...       385        4          216         0     0   \n",
              "193     114 -0.090492  ...       280        4          148        22     0   \n",
              "14      414 -0.545288  ...       324        4          123         0     0   \n",
              "150     623 -0.428222  ...       194        4          107         0    23   \n",
              "580     134  0.009761  ...       243        4          139         4     0   \n",
              "\n",
              "        Class  Age_na  WikiId_na  Age_wiki_na  Class_na  \n",
              "430 -1.585853       1          1            1         1  \n",
              "158  0.827622       2          1            1         1  \n",
              "453 -1.585853       1          1            1         1  \n",
              "750 -0.379115       1          1            1         1  \n",
              "250  0.827622       2          1            1         1  \n",
              "..        ...     ...        ...          ...       ...  \n",
              "867 -1.585853       1          1            1         1  \n",
              "193 -0.379115       1          1            1         1  \n",
              "14   0.827622       1          1            1         1  \n",
              "150 -0.379115       1          1            1         1  \n",
              "580 -0.379115       1          1            1         1  \n",
              "\n",
              "[713 rows x 25 columns]"
            ]
          },
          "metadata": {
            "tags": []
          },
          "execution_count": 15
        }
      ]
    },
    {
      "cell_type": "markdown",
      "metadata": {
        "papermill": {
          "duration": 0.446538,
          "end_time": "2020-09-13T12:22:05.232272",
          "exception": false,
          "start_time": "2020-09-13T12:22:04.785734",
          "status": "completed"
        },
        "tags": [],
        "id": "Ghjeli3bU_8U"
      },
      "source": [
        "using 'xs' to get the table in the manner we are used to see it. Notice that it is without 'Survived' column"
      ]
    },
    {
      "cell_type": "code",
      "metadata": {
        "execution": {
          "iopub.execute_input": "2020-09-13T12:22:06.135028Z",
          "iopub.status.busy": "2020-09-13T12:22:06.134250Z",
          "iopub.status.idle": "2020-09-13T12:22:06.173318Z",
          "shell.execute_reply": "2020-09-13T12:22:06.172721Z"
        },
        "papermill": {
          "duration": 0.49243,
          "end_time": "2020-09-13T12:22:06.173434",
          "exception": false,
          "start_time": "2020-09-13T12:22:05.681004",
          "status": "completed"
        },
        "tags": [],
        "id": "IaYXCxwSU_8h",
        "outputId": "43e10fbe-0cec-4380-8768-7cfe1379b777"
      },
      "source": [
        "#collapse-show\n",
        "to.train.xs"
      ],
      "execution_count": null,
      "outputs": [
        {
          "output_type": "execute_result",
          "data": {
            "text/html": [
              "<div>\n",
              "<style scoped>\n",
              "    .dataframe tbody tr th:only-of-type {\n",
              "        vertical-align: middle;\n",
              "    }\n",
              "\n",
              "    .dataframe tbody tr th {\n",
              "        vertical-align: top;\n",
              "    }\n",
              "\n",
              "    .dataframe thead th {\n",
              "        text-align: right;\n",
              "    }\n",
              "</style>\n",
              "<table border=\"1\" class=\"dataframe\">\n",
              "  <thead>\n",
              "    <tr style=\"text-align: right;\">\n",
              "      <th></th>\n",
              "      <th>Name</th>\n",
              "      <th>Sex</th>\n",
              "      <th>Ticket</th>\n",
              "      <th>Cabin</th>\n",
              "      <th>Embarked</th>\n",
              "      <th>Name_wiki</th>\n",
              "      <th>Hometown</th>\n",
              "      <th>Boarded</th>\n",
              "      <th>Destination</th>\n",
              "      <th>Lifeboat</th>\n",
              "      <th>...</th>\n",
              "      <th>Class_na</th>\n",
              "      <th>PassengerId</th>\n",
              "      <th>Pclass</th>\n",
              "      <th>SibSp</th>\n",
              "      <th>Parch</th>\n",
              "      <th>Age</th>\n",
              "      <th>Fare</th>\n",
              "      <th>WikiId</th>\n",
              "      <th>Age_wiki</th>\n",
              "      <th>Class</th>\n",
              "    </tr>\n",
              "  </thead>\n",
              "  <tbody>\n",
              "    <tr>\n",
              "      <th>430</th>\n",
              "      <td>93</td>\n",
              "      <td>2</td>\n",
              "      <td>4</td>\n",
              "      <td>72</td>\n",
              "      <td>3</td>\n",
              "      <td>89</td>\n",
              "      <td>354</td>\n",
              "      <td>4</td>\n",
              "      <td>223</td>\n",
              "      <td>22</td>\n",
              "      <td>...</td>\n",
              "      <td>1</td>\n",
              "      <td>-0.059897</td>\n",
              "      <td>-1.585850</td>\n",
              "      <td>-0.472176</td>\n",
              "      <td>-0.462981</td>\n",
              "      <td>-0.120416</td>\n",
              "      <td>-0.076707</td>\n",
              "      <td>-1.694354</td>\n",
              "      <td>-0.099986</td>\n",
              "      <td>-1.585853</td>\n",
              "    </tr>\n",
              "    <tr>\n",
              "      <th>158</th>\n",
              "      <td>768</td>\n",
              "      <td>2</td>\n",
              "      <td>259</td>\n",
              "      <td>0</td>\n",
              "      <td>3</td>\n",
              "      <td>732</td>\n",
              "      <td>300</td>\n",
              "      <td>4</td>\n",
              "      <td>148</td>\n",
              "      <td>0</td>\n",
              "      <td>...</td>\n",
              "      <td>1</td>\n",
              "      <td>-1.123753</td>\n",
              "      <td>0.827621</td>\n",
              "      <td>-0.472176</td>\n",
              "      <td>-0.462981</td>\n",
              "      <td>-0.120416</td>\n",
              "      <td>-0.525029</td>\n",
              "      <td>1.479525</td>\n",
              "      <td>0.551559</td>\n",
              "      <td>0.827622</td>\n",
              "    </tr>\n",
              "    <tr>\n",
              "      <th>453</th>\n",
              "      <td>291</td>\n",
              "      <td>2</td>\n",
              "      <td>85</td>\n",
              "      <td>87</td>\n",
              "      <td>1</td>\n",
              "      <td>272</td>\n",
              "      <td>291</td>\n",
              "      <td>2</td>\n",
              "      <td>149</td>\n",
              "      <td>13</td>\n",
              "      <td>...</td>\n",
              "      <td>1</td>\n",
              "      <td>0.030061</td>\n",
              "      <td>-1.585850</td>\n",
              "      <td>0.468220</td>\n",
              "      <td>-0.462981</td>\n",
              "      <td>1.492635</td>\n",
              "      <td>1.491114</td>\n",
              "      <td>-1.430308</td>\n",
              "      <td>1.275499</td>\n",
              "      <td>-1.585853</td>\n",
              "    </tr>\n",
              "    <tr>\n",
              "      <th>750</th>\n",
              "      <td>853</td>\n",
              "      <td>1</td>\n",
              "      <td>235</td>\n",
              "      <td>0</td>\n",
              "      <td>3</td>\n",
              "      <td>818</td>\n",
              "      <td>172</td>\n",
              "      <td>4</td>\n",
              "      <td>4</td>\n",
              "      <td>6</td>\n",
              "      <td>...</td>\n",
              "      <td>1</td>\n",
              "      <td>1.191698</td>\n",
              "      <td>-0.379115</td>\n",
              "      <td>0.468220</td>\n",
              "      <td>0.811558</td>\n",
              "      <td>-1.963903</td>\n",
              "      <td>-0.165683</td>\n",
              "      <td>-0.195430</td>\n",
              "      <td>-1.837440</td>\n",
              "      <td>-0.379115</td>\n",
              "    </tr>\n",
              "    <tr>\n",
              "      <th>250</th>\n",
              "      <td>674</td>\n",
              "      <td>2</td>\n",
              "      <td>423</td>\n",
              "      <td>0</td>\n",
              "      <td>3</td>\n",
              "      <td>642</td>\n",
              "      <td>293</td>\n",
              "      <td>4</td>\n",
              "      <td>148</td>\n",
              "      <td>0</td>\n",
              "      <td>...</td>\n",
              "      <td>1</td>\n",
              "      <td>-0.763919</td>\n",
              "      <td>0.827621</td>\n",
              "      <td>-0.472176</td>\n",
              "      <td>-0.462981</td>\n",
              "      <td>-0.120416</td>\n",
              "      <td>-0.560431</td>\n",
              "      <td>1.268822</td>\n",
              "      <td>-0.751531</td>\n",
              "      <td>0.827622</td>\n",
              "    </tr>\n",
              "    <tr>\n",
              "      <th>...</th>\n",
              "      <td>...</td>\n",
              "      <td>...</td>\n",
              "      <td>...</td>\n",
              "      <td>...</td>\n",
              "      <td>...</td>\n",
              "      <td>...</td>\n",
              "      <td>...</td>\n",
              "      <td>...</td>\n",
              "      <td>...</td>\n",
              "      <td>...</td>\n",
              "      <td>...</td>\n",
              "      <td>...</td>\n",
              "      <td>...</td>\n",
              "      <td>...</td>\n",
              "      <td>...</td>\n",
              "      <td>...</td>\n",
              "      <td>...</td>\n",
              "      <td>...</td>\n",
              "      <td>...</td>\n",
              "      <td>...</td>\n",
              "      <td>...</td>\n",
              "    </tr>\n",
              "    <tr>\n",
              "      <th>867</th>\n",
              "      <td>697</td>\n",
              "      <td>2</td>\n",
              "      <td>591</td>\n",
              "      <td>7</td>\n",
              "      <td>3</td>\n",
              "      <td>663</td>\n",
              "      <td>385</td>\n",
              "      <td>4</td>\n",
              "      <td>216</td>\n",
              "      <td>0</td>\n",
              "      <td>...</td>\n",
              "      <td>1</td>\n",
              "      <td>1.649312</td>\n",
              "      <td>-1.585850</td>\n",
              "      <td>-0.472176</td>\n",
              "      <td>-0.462981</td>\n",
              "      <td>0.110020</td>\n",
              "      <td>0.523456</td>\n",
              "      <td>-1.147593</td>\n",
              "      <td>0.117196</td>\n",
              "      <td>-1.585853</td>\n",
              "    </tr>\n",
              "    <tr>\n",
              "      <th>193</th>\n",
              "      <td>580</td>\n",
              "      <td>2</td>\n",
              "      <td>114</td>\n",
              "      <td>142</td>\n",
              "      <td>3</td>\n",
              "      <td>555</td>\n",
              "      <td>280</td>\n",
              "      <td>4</td>\n",
              "      <td>148</td>\n",
              "      <td>22</td>\n",
              "      <td>...</td>\n",
              "      <td>1</td>\n",
              "      <td>-0.986860</td>\n",
              "      <td>-0.379115</td>\n",
              "      <td>0.468220</td>\n",
              "      <td>0.811558</td>\n",
              "      <td>-2.040715</td>\n",
              "      <td>-0.090492</td>\n",
              "      <td>-0.387463</td>\n",
              "      <td>-1.909834</td>\n",
              "      <td>-0.379115</td>\n",
              "    </tr>\n",
              "    <tr>\n",
              "      <th>14</th>\n",
              "      <td>841</td>\n",
              "      <td>1</td>\n",
              "      <td>414</td>\n",
              "      <td>0</td>\n",
              "      <td>3</td>\n",
              "      <td>806</td>\n",
              "      <td>324</td>\n",
              "      <td>4</td>\n",
              "      <td>123</td>\n",
              "      <td>0</td>\n",
              "      <td>...</td>\n",
              "      <td>1</td>\n",
              "      <td>-1.686971</td>\n",
              "      <td>0.827621</td>\n",
              "      <td>-0.472176</td>\n",
              "      <td>-0.462981</td>\n",
              "      <td>-1.195784</td>\n",
              "      <td>-0.545288</td>\n",
              "      <td>1.650221</td>\n",
              "      <td>-1.113501</td>\n",
              "      <td>0.827622</td>\n",
              "    </tr>\n",
              "    <tr>\n",
              "      <th>150</th>\n",
              "      <td>69</td>\n",
              "      <td>2</td>\n",
              "      <td>623</td>\n",
              "      <td>0</td>\n",
              "      <td>3</td>\n",
              "      <td>69</td>\n",
              "      <td>194</td>\n",
              "      <td>4</td>\n",
              "      <td>107</td>\n",
              "      <td>0</td>\n",
              "      <td>...</td>\n",
              "      <td>1</td>\n",
              "      <td>-1.155043</td>\n",
              "      <td>-0.379115</td>\n",
              "      <td>-0.472176</td>\n",
              "      <td>-0.462981</td>\n",
              "      <td>1.646259</td>\n",
              "      <td>-0.428222</td>\n",
              "      <td>-0.878214</td>\n",
              "      <td>1.565074</td>\n",
              "      <td>-0.379115</td>\n",
              "    </tr>\n",
              "    <tr>\n",
              "      <th>580</th>\n",
              "      <td>161</td>\n",
              "      <td>1</td>\n",
              "      <td>134</td>\n",
              "      <td>0</td>\n",
              "      <td>3</td>\n",
              "      <td>151</td>\n",
              "      <td>243</td>\n",
              "      <td>4</td>\n",
              "      <td>139</td>\n",
              "      <td>4</td>\n",
              "      <td>...</td>\n",
              "      <td>1</td>\n",
              "      <td>0.526788</td>\n",
              "      <td>-0.379115</td>\n",
              "      <td>0.468220</td>\n",
              "      <td>0.811558</td>\n",
              "      <td>-0.350852</td>\n",
              "      <td>0.009761</td>\n",
              "      <td>-0.776863</td>\n",
              "      <td>-0.317168</td>\n",
              "      <td>-0.379115</td>\n",
              "    </tr>\n",
              "  </tbody>\n",
              "</table>\n",
              "<p>713 rows × 24 columns</p>\n",
              "</div>"
            ],
            "text/plain": [
              "     Name  Sex  Ticket  Cabin  Embarked  Name_wiki  Hometown  Boarded  \\\n",
              "430    93    2       4     72         3         89       354        4   \n",
              "158   768    2     259      0         3        732       300        4   \n",
              "453   291    2      85     87         1        272       291        2   \n",
              "750   853    1     235      0         3        818       172        4   \n",
              "250   674    2     423      0         3        642       293        4   \n",
              "..    ...  ...     ...    ...       ...        ...       ...      ...   \n",
              "867   697    2     591      7         3        663       385        4   \n",
              "193   580    2     114    142         3        555       280        4   \n",
              "14    841    1     414      0         3        806       324        4   \n",
              "150    69    2     623      0         3         69       194        4   \n",
              "580   161    1     134      0         3        151       243        4   \n",
              "\n",
              "     Destination  Lifeboat  ...  Class_na  PassengerId    Pclass     SibSp  \\\n",
              "430          223        22  ...         1    -0.059897 -1.585850 -0.472176   \n",
              "158          148         0  ...         1    -1.123753  0.827621 -0.472176   \n",
              "453          149        13  ...         1     0.030061 -1.585850  0.468220   \n",
              "750            4         6  ...         1     1.191698 -0.379115  0.468220   \n",
              "250          148         0  ...         1    -0.763919  0.827621 -0.472176   \n",
              "..           ...       ...  ...       ...          ...       ...       ...   \n",
              "867          216         0  ...         1     1.649312 -1.585850 -0.472176   \n",
              "193          148        22  ...         1    -0.986860 -0.379115  0.468220   \n",
              "14           123         0  ...         1    -1.686971  0.827621 -0.472176   \n",
              "150          107         0  ...         1    -1.155043 -0.379115 -0.472176   \n",
              "580          139         4  ...         1     0.526788 -0.379115  0.468220   \n",
              "\n",
              "        Parch       Age      Fare    WikiId  Age_wiki     Class  \n",
              "430 -0.462981 -0.120416 -0.076707 -1.694354 -0.099986 -1.585853  \n",
              "158 -0.462981 -0.120416 -0.525029  1.479525  0.551559  0.827622  \n",
              "453 -0.462981  1.492635  1.491114 -1.430308  1.275499 -1.585853  \n",
              "750  0.811558 -1.963903 -0.165683 -0.195430 -1.837440 -0.379115  \n",
              "250 -0.462981 -0.120416 -0.560431  1.268822 -0.751531  0.827622  \n",
              "..        ...       ...       ...       ...       ...       ...  \n",
              "867 -0.462981  0.110020  0.523456 -1.147593  0.117196 -1.585853  \n",
              "193  0.811558 -2.040715 -0.090492 -0.387463 -1.909834 -0.379115  \n",
              "14  -0.462981 -1.195784 -0.545288  1.650221 -1.113501  0.827622  \n",
              "150 -0.462981  1.646259 -0.428222 -0.878214  1.565074 -0.379115  \n",
              "580  0.811558 -0.350852  0.009761 -0.776863 -0.317168 -0.379115  \n",
              "\n",
              "[713 rows x 24 columns]"
            ]
          },
          "metadata": {
            "tags": []
          },
          "execution_count": 16
        }
      ]
    },
    {
      "cell_type": "markdown",
      "metadata": {
        "papermill": {
          "duration": 0.452207,
          "end_time": "2020-09-13T12:22:07.077220",
          "exception": false,
          "start_time": "2020-09-13T12:22:06.625013",
          "status": "completed"
        },
        "tags": [],
        "id": "YZqUjYSLU_8t"
      },
      "source": [
        "using the same for target value"
      ]
    },
    {
      "cell_type": "code",
      "metadata": {
        "execution": {
          "iopub.execute_input": "2020-09-13T12:22:08.068321Z",
          "iopub.status.busy": "2020-09-13T12:22:08.067273Z",
          "iopub.status.idle": "2020-09-13T12:22:08.082270Z",
          "shell.execute_reply": "2020-09-13T12:22:08.082753Z"
        },
        "papermill": {
          "duration": 0.527119,
          "end_time": "2020-09-13T12:22:08.082906",
          "exception": false,
          "start_time": "2020-09-13T12:22:07.555787",
          "status": "completed"
        },
        "tags": [],
        "id": "YLc7GvJBU_8y",
        "outputId": "1d0b2df5-3010-4e6b-8abe-13d2ce428337"
      },
      "source": [
        "#collapse-show\n",
        "to.train.ys.values.ravel()"
      ],
      "execution_count": null,
      "outputs": [
        {
          "output_type": "execute_result",
          "data": {
            "text/plain": [
              "array([1., 0., 1., 1., 0., 0., 0., 1., 0., 0., 1., 0., 1., 1., 0., 0., 0.,\n",
              "       1., 1., 0., 0., 0., 0., 1., 0., 0., 0., 1., 0., 0., 1., 1., 1., 0.,\n",
              "       1., 0., 0., 0., 1., 0., 0., 0., 0., 1., 1., 0., 0., 1., 1., 0., 0.,\n",
              "       0., 0., 1., 1., 0., 1., 0., 1., 0., 0., 0., 1., 1., 0., 1., 0., 0.,\n",
              "       0., 1., 1., 1., 0., 1., 0., 0., 0., 0., 1., 0., 1., 0., 0., 0., 0.,\n",
              "       0., 0., 0., 1., 0., 0., 0., 0., 1., 0., 0., 1., 1., 1., 0., 1., 1.,\n",
              "       1., 1., 1., 0., 0., 1., 0., 0., 1., 0., 0., 0., 0., 1., 0., 0., 1.,\n",
              "       0., 0., 0., 0., 1., 0., 0., 1., 0., 0., 0., 1., 0., 0., 0., 1., 0.,\n",
              "       0., 0., 1., 1., 1., 0., 0., 0., 1., 0., 0., 0., 1., 0., 0., 0., 0.,\n",
              "       0., 0., 1., 1., 0., 1., 0., 0., 0., 1., 1., 0., 0., 1., 0., 0., 0.,\n",
              "       1., 1., 0., 0., 1., 0., 1., 1., 1., 0., 0., 0., 1., 1., 0., 0., 1.,\n",
              "       0., 1., 0., 1., 0., 1., 0., 1., 0., 0., 0., 0., 1., 1., 0., 1., 0.,\n",
              "       0., 0., 1., 0., 1., 1., 0., 1., 0., 1., 0., 0., 0., 0., 0., 1., 1.,\n",
              "       0., 0., 0., 0., 1., 0., 0., 0., 0., 1., 1., 1., 0., 0., 1., 0., 0.,\n",
              "       1., 1., 1., 0., 1., 0., 0., 1., 0., 0., 0., 0., 1., 1., 1., 0., 1.,\n",
              "       1., 0., 0., 0., 1., 0., 1., 0., 0., 1., 0., 1., 1., 1., 0., 0., 0.,\n",
              "       0., 1., 1., 1., 1., 0., 0., 0., 0., 1., 1., 0., 0., 0., 1., 0., 0.,\n",
              "       0., 0., 1., 0., 0., 1., 1., 1., 1., 1., 1., 1., 1., 1., 1., 0., 0.,\n",
              "       0., 1., 0., 0., 0., 0., 0., 1., 1., 0., 0., 0., 0., 0., 0., 0., 1.,\n",
              "       0., 0., 0., 1., 0., 0., 0., 1., 1., 1., 0., 0., 1., 0., 0., 0., 1.,\n",
              "       0., 0., 1., 0., 0., 1., 1., 1., 0., 0., 0., 0., 0., 1., 1., 1., 0.,\n",
              "       1., 0., 0., 0., 1., 0., 1., 1., 0., 0., 0., 1., 0., 0., 1., 0., 1.,\n",
              "       1., 1., 1., 0., 1., 0., 1., 0., 1., 0., 0., 0., 0., 0., 0., 1., 1.,\n",
              "       0., 0., 0., 0., 0., 1., 1., 0., 0., 0., 0., 0., 0., 0., 1., 0., 1.,\n",
              "       0., 1., 0., 0., 0., 0., 0., 0., 1., 1., 0., 0., 1., 0., 1., 0., 0.,\n",
              "       0., 0., 0., 0., 0., 1., 1., 1., 1., 0., 0., 0., 0., 0., 1., 0., 0.,\n",
              "       0., 1., 0., 0., 0., 0., 1., 1., 1., 0., 0., 0., 0., 0., 0., 0., 0.,\n",
              "       0., 1., 0., 0., 1., 1., 0., 0., 0., 0., 0., 0., 1., 1., 1., 0., 1.,\n",
              "       0., 0., 0., 0., 0., 0., 0., 1., 1., 0., 0., 1., 0., 0., 0., 1., 0.,\n",
              "       0., 1., 0., 1., 1., 0., 0., 0., 0., 0., 1., 1., 0., 0., 0., 0., 0.,\n",
              "       1., 1., 0., 1., 1., 1., 0., 1., 0., 0., 1., 0., 1., 1., 0., 0., 1.,\n",
              "       0., 1., 0., 0., 0., 0., 0., 0., 1., 1., 1., 0., 1., 1., 0., 0., 0.,\n",
              "       0., 0., 0., 0., 0., 1., 0., 1., 1., 1., 0., 0., 0., 0., 0., 0., 0.,\n",
              "       0., 0., 0., 0., 1., 0., 0., 1., 0., 0., 1., 0., 0., 1., 0., 1., 1.,\n",
              "       0., 0., 0., 1., 1., 0., 1., 0., 0., 0., 0., 0., 0., 0., 1., 1., 0.,\n",
              "       1., 0., 0., 0., 0., 0., 1., 0., 1., 0., 1., 1., 1., 1., 0., 0., 0.,\n",
              "       1., 1., 1., 1., 0., 1., 0., 0., 1., 0., 1., 1., 0., 0., 0., 0., 0.,\n",
              "       1., 0., 1., 1., 0., 1., 1., 1., 0., 1., 0., 0., 1., 1., 0., 0., 0.,\n",
              "       0., 0., 1., 0., 1., 0., 0., 1., 0., 1., 0., 0., 1., 1., 0., 0., 0.,\n",
              "       1., 1., 1., 0., 0., 1., 0., 0., 0., 0., 0., 0., 0., 1., 0., 0., 0.,\n",
              "       0., 1., 0., 0., 0., 1., 0., 0., 1., 1., 1., 1., 0., 0., 0., 0., 1.,\n",
              "       1., 0., 1., 0., 0., 1., 0., 1., 1., 1., 0., 0., 1., 0., 0., 1.],\n",
              "      dtype=float32)"
            ]
          },
          "metadata": {
            "tags": []
          },
          "execution_count": 17
        }
      ]
    },
    {
      "cell_type": "markdown",
      "metadata": {
        "id": "Gzi2PNcbvGyI"
      },
      "source": [
        "# Model:"
      ]
    },
    {
      "cell_type": "markdown",
      "metadata": {
        "id": "U9tAND4CvJ8S"
      },
      "source": [
        "Now, we got our data preprocessed. It's time to model the data. For this problem i am using RandomForestClassifier it's powerful and simple. And taking out X_train and y_train values like we showed before examples."
      ]
    },
    {
      "cell_type": "code",
      "metadata": {
        "execution": {
          "iopub.execute_input": "2020-09-13T12:22:09.959270Z",
          "iopub.status.busy": "2020-09-13T12:22:09.958545Z",
          "iopub.status.idle": "2020-09-13T12:22:10.196257Z",
          "shell.execute_reply": "2020-09-13T12:22:10.195674Z"
        },
        "papermill": {
          "duration": 0.729995,
          "end_time": "2020-09-13T12:22:10.196383",
          "exception": false,
          "start_time": "2020-09-13T12:22:09.466388",
          "status": "completed"
        },
        "tags": [],
        "id": "_AurZ7k3U_9E"
      },
      "source": [
        "### RANDOM FOREST\n",
        "from sklearn.ensemble import RandomForestClassifier\n",
        "\n",
        "X_train, y_train = to.train.xs, to.train.ys.values.ravel()\n",
        "X_valid, y_valid = to.valid.xs, to.valid.ys.values.ravel()"
      ],
      "execution_count": null,
      "outputs": []
    },
    {
      "cell_type": "markdown",
      "metadata": {
        "papermill": {
          "duration": 0.45095,
          "end_time": "2020-09-13T12:22:11.104160",
          "exception": false,
          "start_time": "2020-09-13T12:22:10.653210",
          "status": "completed"
        },
        "tags": [],
        "id": "KYeeeO4jU_9T"
      },
      "source": [
        "We have table without any hardcore preprocessing all we did was just to use fastai tabular function to get this"
      ]
    },
    {
      "cell_type": "code",
      "metadata": {
        "execution": {
          "iopub.execute_input": "2020-09-13T12:22:12.020809Z",
          "iopub.status.busy": "2020-09-13T12:22:12.019486Z",
          "iopub.status.idle": "2020-09-13T12:22:12.045341Z",
          "shell.execute_reply": "2020-09-13T12:22:12.044753Z"
        },
        "papermill": {
          "duration": 0.481002,
          "end_time": "2020-09-13T12:22:12.045455",
          "exception": false,
          "start_time": "2020-09-13T12:22:11.564453",
          "status": "completed"
        },
        "tags": [],
        "id": "TY9KoYOhU_9W",
        "outputId": "1738571c-2add-4585-c375-8f0b28403ab0"
      },
      "source": [
        "X_train.head()"
      ],
      "execution_count": null,
      "outputs": [
        {
          "output_type": "execute_result",
          "data": {
            "text/html": [
              "<div>\n",
              "<style scoped>\n",
              "    .dataframe tbody tr th:only-of-type {\n",
              "        vertical-align: middle;\n",
              "    }\n",
              "\n",
              "    .dataframe tbody tr th {\n",
              "        vertical-align: top;\n",
              "    }\n",
              "\n",
              "    .dataframe thead th {\n",
              "        text-align: right;\n",
              "    }\n",
              "</style>\n",
              "<table border=\"1\" class=\"dataframe\">\n",
              "  <thead>\n",
              "    <tr style=\"text-align: right;\">\n",
              "      <th></th>\n",
              "      <th>Name</th>\n",
              "      <th>Sex</th>\n",
              "      <th>Ticket</th>\n",
              "      <th>Cabin</th>\n",
              "      <th>Embarked</th>\n",
              "      <th>Name_wiki</th>\n",
              "      <th>Hometown</th>\n",
              "      <th>Boarded</th>\n",
              "      <th>Destination</th>\n",
              "      <th>Lifeboat</th>\n",
              "      <th>...</th>\n",
              "      <th>Class_na</th>\n",
              "      <th>PassengerId</th>\n",
              "      <th>Pclass</th>\n",
              "      <th>SibSp</th>\n",
              "      <th>Parch</th>\n",
              "      <th>Age</th>\n",
              "      <th>Fare</th>\n",
              "      <th>WikiId</th>\n",
              "      <th>Age_wiki</th>\n",
              "      <th>Class</th>\n",
              "    </tr>\n",
              "  </thead>\n",
              "  <tbody>\n",
              "    <tr>\n",
              "      <th>430</th>\n",
              "      <td>93</td>\n",
              "      <td>2</td>\n",
              "      <td>4</td>\n",
              "      <td>72</td>\n",
              "      <td>3</td>\n",
              "      <td>89</td>\n",
              "      <td>354</td>\n",
              "      <td>4</td>\n",
              "      <td>223</td>\n",
              "      <td>22</td>\n",
              "      <td>...</td>\n",
              "      <td>1</td>\n",
              "      <td>-0.059897</td>\n",
              "      <td>-1.585850</td>\n",
              "      <td>-0.472176</td>\n",
              "      <td>-0.462981</td>\n",
              "      <td>-0.120416</td>\n",
              "      <td>-0.076707</td>\n",
              "      <td>-1.694354</td>\n",
              "      <td>-0.099986</td>\n",
              "      <td>-1.585853</td>\n",
              "    </tr>\n",
              "    <tr>\n",
              "      <th>158</th>\n",
              "      <td>768</td>\n",
              "      <td>2</td>\n",
              "      <td>259</td>\n",
              "      <td>0</td>\n",
              "      <td>3</td>\n",
              "      <td>732</td>\n",
              "      <td>300</td>\n",
              "      <td>4</td>\n",
              "      <td>148</td>\n",
              "      <td>0</td>\n",
              "      <td>...</td>\n",
              "      <td>1</td>\n",
              "      <td>-1.123753</td>\n",
              "      <td>0.827621</td>\n",
              "      <td>-0.472176</td>\n",
              "      <td>-0.462981</td>\n",
              "      <td>-0.120416</td>\n",
              "      <td>-0.525029</td>\n",
              "      <td>1.479525</td>\n",
              "      <td>0.551559</td>\n",
              "      <td>0.827622</td>\n",
              "    </tr>\n",
              "    <tr>\n",
              "      <th>453</th>\n",
              "      <td>291</td>\n",
              "      <td>2</td>\n",
              "      <td>85</td>\n",
              "      <td>87</td>\n",
              "      <td>1</td>\n",
              "      <td>272</td>\n",
              "      <td>291</td>\n",
              "      <td>2</td>\n",
              "      <td>149</td>\n",
              "      <td>13</td>\n",
              "      <td>...</td>\n",
              "      <td>1</td>\n",
              "      <td>0.030061</td>\n",
              "      <td>-1.585850</td>\n",
              "      <td>0.468220</td>\n",
              "      <td>-0.462981</td>\n",
              "      <td>1.492635</td>\n",
              "      <td>1.491114</td>\n",
              "      <td>-1.430308</td>\n",
              "      <td>1.275499</td>\n",
              "      <td>-1.585853</td>\n",
              "    </tr>\n",
              "    <tr>\n",
              "      <th>750</th>\n",
              "      <td>853</td>\n",
              "      <td>1</td>\n",
              "      <td>235</td>\n",
              "      <td>0</td>\n",
              "      <td>3</td>\n",
              "      <td>818</td>\n",
              "      <td>172</td>\n",
              "      <td>4</td>\n",
              "      <td>4</td>\n",
              "      <td>6</td>\n",
              "      <td>...</td>\n",
              "      <td>1</td>\n",
              "      <td>1.191698</td>\n",
              "      <td>-0.379115</td>\n",
              "      <td>0.468220</td>\n",
              "      <td>0.811558</td>\n",
              "      <td>-1.963903</td>\n",
              "      <td>-0.165683</td>\n",
              "      <td>-0.195430</td>\n",
              "      <td>-1.837440</td>\n",
              "      <td>-0.379115</td>\n",
              "    </tr>\n",
              "    <tr>\n",
              "      <th>250</th>\n",
              "      <td>674</td>\n",
              "      <td>2</td>\n",
              "      <td>423</td>\n",
              "      <td>0</td>\n",
              "      <td>3</td>\n",
              "      <td>642</td>\n",
              "      <td>293</td>\n",
              "      <td>4</td>\n",
              "      <td>148</td>\n",
              "      <td>0</td>\n",
              "      <td>...</td>\n",
              "      <td>1</td>\n",
              "      <td>-0.763919</td>\n",
              "      <td>0.827621</td>\n",
              "      <td>-0.472176</td>\n",
              "      <td>-0.462981</td>\n",
              "      <td>-0.120416</td>\n",
              "      <td>-0.560431</td>\n",
              "      <td>1.268822</td>\n",
              "      <td>-0.751531</td>\n",
              "      <td>0.827622</td>\n",
              "    </tr>\n",
              "  </tbody>\n",
              "</table>\n",
              "<p>5 rows × 24 columns</p>\n",
              "</div>"
            ],
            "text/plain": [
              "     Name  Sex  Ticket  Cabin  Embarked  Name_wiki  Hometown  Boarded  \\\n",
              "430    93    2       4     72         3         89       354        4   \n",
              "158   768    2     259      0         3        732       300        4   \n",
              "453   291    2      85     87         1        272       291        2   \n",
              "750   853    1     235      0         3        818       172        4   \n",
              "250   674    2     423      0         3        642       293        4   \n",
              "\n",
              "     Destination  Lifeboat  ...  Class_na  PassengerId    Pclass     SibSp  \\\n",
              "430          223        22  ...         1    -0.059897 -1.585850 -0.472176   \n",
              "158          148         0  ...         1    -1.123753  0.827621 -0.472176   \n",
              "453          149        13  ...         1     0.030061 -1.585850  0.468220   \n",
              "750            4         6  ...         1     1.191698 -0.379115  0.468220   \n",
              "250          148         0  ...         1    -0.763919  0.827621 -0.472176   \n",
              "\n",
              "        Parch       Age      Fare    WikiId  Age_wiki     Class  \n",
              "430 -0.462981 -0.120416 -0.076707 -1.694354 -0.099986 -1.585853  \n",
              "158 -0.462981 -0.120416 -0.525029  1.479525  0.551559  0.827622  \n",
              "453 -0.462981  1.492635  1.491114 -1.430308  1.275499 -1.585853  \n",
              "750  0.811558 -1.963903 -0.165683 -0.195430 -1.837440 -0.379115  \n",
              "250 -0.462981 -0.120416 -0.560431  1.268822 -0.751531  0.827622  \n",
              "\n",
              "[5 rows x 24 columns]"
            ]
          },
          "metadata": {
            "tags": []
          },
          "execution_count": 19
        }
      ]
    },
    {
      "cell_type": "markdown",
      "metadata": {
        "id": "QRIliLuK0ZP1"
      },
      "source": [
        "Model initialization using sklearn. We are simply using 100 different decision trees. Keeping the model parameters simple as possible so that we don't overfit either."
      ]
    },
    {
      "cell_type": "code",
      "metadata": {
        "execution": {
          "iopub.execute_input": "2020-09-13T12:22:12.977619Z",
          "iopub.status.busy": "2020-09-13T12:22:12.976432Z",
          "iopub.status.idle": "2020-09-13T12:22:13.363746Z",
          "shell.execute_reply": "2020-09-13T12:22:13.364689Z"
        },
        "papermill": {
          "duration": 0.854935,
          "end_time": "2020-09-13T12:22:13.364858",
          "exception": false,
          "start_time": "2020-09-13T12:22:12.509923",
          "status": "completed"
        },
        "tags": [],
        "id": "seh-7waHU_9g",
        "outputId": "fc8d18a5-3cac-42a5-d273-ff7614965c32"
      },
      "source": [
        "rnf_classifier= RandomForestClassifier(n_estimators=100, n_jobs=-1)\n",
        "rnf_classifier.fit(X_train,y_train)"
      ],
      "execution_count": null,
      "outputs": [
        {
          "output_type": "execute_result",
          "data": {
            "text/plain": [
              "RandomForestClassifier(n_jobs=-1)"
            ]
          },
          "metadata": {
            "tags": []
          },
          "execution_count": 20
        }
      ]
    },
    {
      "cell_type": "markdown",
      "metadata": {
        "papermill": {
          "duration": 0.46656,
          "end_time": "2020-09-13T12:22:14.285416",
          "exception": false,
          "start_time": "2020-09-13T12:22:13.818856",
          "status": "completed"
        },
        "tags": [],
        "id": "OPIFAsRqU_9o"
      },
      "source": [
        "We just Trained randomforest classifier and predicting accuracy on validation set"
      ]
    },
    {
      "cell_type": "markdown",
      "metadata": {
        "id": "LL4Ip7FI1JYf"
      },
      "source": [
        "## Accuracy on validation dataset"
      ]
    },
    {
      "cell_type": "code",
      "metadata": {
        "execution": {
          "iopub.execute_input": "2020-09-13T12:22:15.202619Z",
          "iopub.status.busy": "2020-09-13T12:22:15.201490Z",
          "iopub.status.idle": "2020-09-13T12:22:15.312404Z",
          "shell.execute_reply": "2020-09-13T12:22:15.311666Z"
        },
        "papermill": {
          "duration": 0.575496,
          "end_time": "2020-09-13T12:22:15.312548",
          "exception": false,
          "start_time": "2020-09-13T12:22:14.737052",
          "status": "completed"
        },
        "tags": [],
        "id": "qz_6XOP9U_9r",
        "outputId": "0c9742f1-6fed-4b8a-851a-6f54e56a01a9"
      },
      "source": [
        "y_pred=rnf_classifier.predict(X_valid)\n",
        "\n",
        "\n",
        "from sklearn.metrics import accuracy_score\n",
        "\n",
        "accuracy_score(y_pred, y_valid)"
      ],
      "execution_count": null,
      "outputs": [
        {
          "output_type": "execute_result",
          "data": {
            "text/plain": [
              "0.9943820224719101"
            ]
          },
          "metadata": {
            "tags": []
          },
          "execution_count": 21
        }
      ]
    },
    {
      "cell_type": "markdown",
      "metadata": {
        "papermill": {
          "duration": 0.470242,
          "end_time": "2020-09-13T12:22:16.243480",
          "exception": false,
          "start_time": "2020-09-13T12:22:15.773238",
          "status": "completed"
        },
        "tags": [],
        "id": "mTPpwhyGU_94"
      },
      "source": [
        "WOW, we get the accuracy of 0.99 on validation dataset this means on leader board getting rank of 200 something our of 19,000. "
      ]
    },
    {
      "cell_type": "markdown",
      "metadata": {
        "papermill": {
          "duration": 0.451333,
          "end_time": "2020-09-13T12:22:17.150161",
          "exception": false,
          "start_time": "2020-09-13T12:22:16.698828",
          "status": "completed"
        },
        "tags": [],
        "id": "qeXwwJnPU_97"
      },
      "source": [
        "# TEST dataset"
      ]
    },
    {
      "cell_type": "markdown",
      "metadata": {
        "id": "8RBlnIyZ1XRu"
      },
      "source": [
        "We need to turn the test data format as intended so that to out feed in model. Taking look at test data"
      ]
    },
    {
      "cell_type": "code",
      "metadata": {
        "execution": {
          "iopub.execute_input": "2020-09-13T12:22:18.099260Z",
          "iopub.status.busy": "2020-09-13T12:22:18.098549Z",
          "iopub.status.idle": "2020-09-13T12:22:18.105699Z",
          "shell.execute_reply": "2020-09-13T12:22:18.105102Z"
        },
        "papermill": {
          "duration": 0.494329,
          "end_time": "2020-09-13T12:22:18.105816",
          "exception": false,
          "start_time": "2020-09-13T12:22:17.611487",
          "status": "completed"
        },
        "tags": [],
        "id": "SO_osAUOU_9-",
        "outputId": "e367a8c2-25f8-4625-d398-bb9fe92fe9ec"
      },
      "source": [
        "#hide_input\n",
        "df_test.head()"
      ],
      "execution_count": null,
      "outputs": [
        {
          "output_type": "execute_result",
          "data": {
            "text/html": [
              "<div>\n",
              "<style scoped>\n",
              "    .dataframe tbody tr th:only-of-type {\n",
              "        vertical-align: middle;\n",
              "    }\n",
              "\n",
              "    .dataframe tbody tr th {\n",
              "        vertical-align: top;\n",
              "    }\n",
              "\n",
              "    .dataframe thead th {\n",
              "        text-align: right;\n",
              "    }\n",
              "</style>\n",
              "<table border=\"1\" class=\"dataframe\">\n",
              "  <thead>\n",
              "    <tr style=\"text-align: right;\">\n",
              "      <th></th>\n",
              "      <th>PassengerId</th>\n",
              "      <th>Pclass</th>\n",
              "      <th>Name</th>\n",
              "      <th>Sex</th>\n",
              "      <th>Age</th>\n",
              "      <th>SibSp</th>\n",
              "      <th>Parch</th>\n",
              "      <th>Ticket</th>\n",
              "      <th>Fare</th>\n",
              "      <th>Cabin</th>\n",
              "      <th>Embarked</th>\n",
              "      <th>WikiId</th>\n",
              "      <th>Name_wiki</th>\n",
              "      <th>Age_wiki</th>\n",
              "      <th>Hometown</th>\n",
              "      <th>Boarded</th>\n",
              "      <th>Destination</th>\n",
              "      <th>Lifeboat</th>\n",
              "      <th>Body</th>\n",
              "      <th>Class</th>\n",
              "    </tr>\n",
              "  </thead>\n",
              "  <tbody>\n",
              "    <tr>\n",
              "      <th>0</th>\n",
              "      <td>892</td>\n",
              "      <td>3</td>\n",
              "      <td>Kelly, Mr. James</td>\n",
              "      <td>male</td>\n",
              "      <td>34.5</td>\n",
              "      <td>0</td>\n",
              "      <td>0</td>\n",
              "      <td>330911</td>\n",
              "      <td>7.8292</td>\n",
              "      <td>NaN</td>\n",
              "      <td>Q</td>\n",
              "      <td>928.0</td>\n",
              "      <td>Kelly, Mr. James</td>\n",
              "      <td>19.0</td>\n",
              "      <td>Unknown, Ireland</td>\n",
              "      <td>Southampton</td>\n",
              "      <td>New York City</td>\n",
              "      <td>NaN</td>\n",
              "      <td>70MB</td>\n",
              "      <td>3.0</td>\n",
              "    </tr>\n",
              "    <tr>\n",
              "      <th>1</th>\n",
              "      <td>893</td>\n",
              "      <td>3</td>\n",
              "      <td>Wilkes, Mrs. James (Ellen Needs)</td>\n",
              "      <td>female</td>\n",
              "      <td>47.0</td>\n",
              "      <td>1</td>\n",
              "      <td>0</td>\n",
              "      <td>363272</td>\n",
              "      <td>7.0000</td>\n",
              "      <td>NaN</td>\n",
              "      <td>S</td>\n",
              "      <td>1297.0</td>\n",
              "      <td>Wilkes, Mrs. Ellen</td>\n",
              "      <td>47.0</td>\n",
              "      <td>Penzance, Cornwall, England</td>\n",
              "      <td>Southampton</td>\n",
              "      <td>Akron, Ohio, US</td>\n",
              "      <td>16</td>\n",
              "      <td>NaN</td>\n",
              "      <td>3.0</td>\n",
              "    </tr>\n",
              "    <tr>\n",
              "      <th>2</th>\n",
              "      <td>894</td>\n",
              "      <td>2</td>\n",
              "      <td>Myles, Mr. Thomas Francis</td>\n",
              "      <td>male</td>\n",
              "      <td>62.0</td>\n",
              "      <td>0</td>\n",
              "      <td>0</td>\n",
              "      <td>240276</td>\n",
              "      <td>9.6875</td>\n",
              "      <td>NaN</td>\n",
              "      <td>Q</td>\n",
              "      <td>518.0</td>\n",
              "      <td>Myles, Mr. Thomas Francis</td>\n",
              "      <td>63.0</td>\n",
              "      <td>Fermoy, Ireland[note 1]</td>\n",
              "      <td>Queenstown</td>\n",
              "      <td>Waban, Massachusetts, US</td>\n",
              "      <td>NaN</td>\n",
              "      <td>NaN</td>\n",
              "      <td>2.0</td>\n",
              "    </tr>\n",
              "    <tr>\n",
              "      <th>3</th>\n",
              "      <td>895</td>\n",
              "      <td>3</td>\n",
              "      <td>Wirz, Mr. Albert</td>\n",
              "      <td>male</td>\n",
              "      <td>27.0</td>\n",
              "      <td>0</td>\n",
              "      <td>0</td>\n",
              "      <td>315154</td>\n",
              "      <td>8.6625</td>\n",
              "      <td>NaN</td>\n",
              "      <td>S</td>\n",
              "      <td>1303.0</td>\n",
              "      <td>Wirz, Mr. Albert</td>\n",
              "      <td>27.0</td>\n",
              "      <td>Uster, Switzerland</td>\n",
              "      <td>Southampton</td>\n",
              "      <td>Beloit, Wisconsin, US</td>\n",
              "      <td>NaN</td>\n",
              "      <td>131MB</td>\n",
              "      <td>3.0</td>\n",
              "    </tr>\n",
              "    <tr>\n",
              "      <th>4</th>\n",
              "      <td>896</td>\n",
              "      <td>3</td>\n",
              "      <td>Hirvonen, Mrs. Alexander (Helga E Lindqvist)</td>\n",
              "      <td>female</td>\n",
              "      <td>22.0</td>\n",
              "      <td>1</td>\n",
              "      <td>1</td>\n",
              "      <td>3101298</td>\n",
              "      <td>12.2875</td>\n",
              "      <td>NaN</td>\n",
              "      <td>S</td>\n",
              "      <td>871.0</td>\n",
              "      <td>Hirvonen, Mrs. Helga Elisabeth (née Lindqvist)</td>\n",
              "      <td>22.0</td>\n",
              "      <td>Taalintehdas, Finland</td>\n",
              "      <td>Southampton</td>\n",
              "      <td>Monessen, Pennsylvania, US</td>\n",
              "      <td>15</td>\n",
              "      <td>NaN</td>\n",
              "      <td>3.0</td>\n",
              "    </tr>\n",
              "  </tbody>\n",
              "</table>\n",
              "</div>"
            ],
            "text/plain": [
              "   PassengerId  Pclass                                          Name     Sex  \\\n",
              "0          892       3                              Kelly, Mr. James    male   \n",
              "1          893       3              Wilkes, Mrs. James (Ellen Needs)  female   \n",
              "2          894       2                     Myles, Mr. Thomas Francis    male   \n",
              "3          895       3                              Wirz, Mr. Albert    male   \n",
              "4          896       3  Hirvonen, Mrs. Alexander (Helga E Lindqvist)  female   \n",
              "\n",
              "    Age  SibSp  Parch   Ticket     Fare Cabin Embarked  WikiId  \\\n",
              "0  34.5      0      0   330911   7.8292   NaN        Q   928.0   \n",
              "1  47.0      1      0   363272   7.0000   NaN        S  1297.0   \n",
              "2  62.0      0      0   240276   9.6875   NaN        Q   518.0   \n",
              "3  27.0      0      0   315154   8.6625   NaN        S  1303.0   \n",
              "4  22.0      1      1  3101298  12.2875   NaN        S   871.0   \n",
              "\n",
              "                                        Name_wiki  Age_wiki  \\\n",
              "0                                Kelly, Mr. James      19.0   \n",
              "1                              Wilkes, Mrs. Ellen      47.0   \n",
              "2                       Myles, Mr. Thomas Francis      63.0   \n",
              "3                                Wirz, Mr. Albert      27.0   \n",
              "4  Hirvonen, Mrs. Helga Elisabeth (née Lindqvist)      22.0   \n",
              "\n",
              "                      Hometown      Boarded                 Destination  \\\n",
              "0             Unknown, Ireland  Southampton               New York City   \n",
              "1  Penzance, Cornwall, England  Southampton             Akron, Ohio, US   \n",
              "2      Fermoy, Ireland[note 1]   Queenstown    Waban, Massachusetts, US   \n",
              "3           Uster, Switzerland  Southampton       Beloit, Wisconsin, US   \n",
              "4        Taalintehdas, Finland  Southampton  Monessen, Pennsylvania, US   \n",
              "\n",
              "  Lifeboat   Body  Class  \n",
              "0      NaN   70MB    3.0  \n",
              "1       16    NaN    3.0  \n",
              "2      NaN    NaN    2.0  \n",
              "3      NaN  131MB    3.0  \n",
              "4       15    NaN    3.0  "
            ]
          },
          "metadata": {
            "tags": []
          },
          "execution_count": 22
        }
      ]
    },
    {
      "cell_type": "markdown",
      "metadata": {
        "papermill": {
          "duration": 0.462276,
          "end_time": "2020-09-13T12:22:19.053511",
          "exception": false,
          "start_time": "2020-09-13T12:22:18.591235",
          "status": "completed"
        },
        "tags": [],
        "id": "g55GaRuuU_-G"
      },
      "source": [
        "doing the same preprocessing we did for training set"
      ]
    },
    {
      "cell_type": "code",
      "metadata": {
        "execution": {
          "iopub.execute_input": "2020-09-13T12:22:19.970198Z",
          "iopub.status.busy": "2020-09-13T12:22:19.969234Z",
          "iopub.status.idle": "2020-09-13T12:22:19.972990Z",
          "shell.execute_reply": "2020-09-13T12:22:19.973598Z"
        },
        "papermill": {
          "duration": 0.469731,
          "end_time": "2020-09-13T12:22:19.973749",
          "exception": false,
          "start_time": "2020-09-13T12:22:19.504018",
          "status": "completed"
        },
        "tags": [],
        "id": "lf2oNT1aU_-R",
        "outputId": "0edb13c0-4a2c-4e24-f9f9-b96aa9cc0693"
      },
      "source": [
        "df_test.dtypes\n",
        "g_train =df_test.columns.to_series().groupby(df_test.dtypes).groups\n",
        "g_train"
      ],
      "execution_count": null,
      "outputs": [
        {
          "output_type": "execute_result",
          "data": {
            "text/plain": [
              "{int64: ['PassengerId', 'Pclass', 'SibSp', 'Parch'], float64: ['Age', 'Fare', 'WikiId', 'Age_wiki', 'Class'], object: ['Name', 'Sex', 'Ticket', 'Cabin', 'Embarked', 'Name_wiki', 'Hometown', 'Boarded', 'Destination', 'Lifeboat', 'Body']}"
            ]
          },
          "metadata": {
            "tags": []
          },
          "execution_count": 23
        }
      ]
    },
    {
      "cell_type": "code",
      "metadata": {
        "execution": {
          "iopub.execute_input": "2020-09-13T12:22:20.889055Z",
          "iopub.status.busy": "2020-09-13T12:22:20.888004Z",
          "iopub.status.idle": "2020-09-13T12:22:20.895908Z",
          "shell.execute_reply": "2020-09-13T12:22:20.895343Z"
        },
        "papermill": {
          "duration": 0.46562,
          "end_time": "2020-09-13T12:22:20.896034",
          "exception": false,
          "start_time": "2020-09-13T12:22:20.430414",
          "status": "completed"
        },
        "tags": [],
        "id": "JZt7Zf6DU_-d"
      },
      "source": [
        "#collapse-show\n",
        "cat_names= [\n",
        "        'Name', 'Sex', 'Ticket', 'Cabin', \n",
        "        'Embarked', 'Name_wiki', 'Hometown', \n",
        "        'Boarded', 'Destination', 'Lifeboat', \n",
        "        'Body'\n",
        "]\n",
        "\n",
        "cont_names = [ \n",
        "    'PassengerId', 'Pclass', 'SibSp', 'Parch', \n",
        "    'Age', 'Fare', 'WikiId', 'Age_wiki','Class'\n",
        " ]"
      ],
      "execution_count": null,
      "outputs": []
    },
    {
      "cell_type": "markdown",
      "metadata": {
        "papermill": {
          "duration": 0.453777,
          "end_time": "2020-09-13T12:22:21.802437",
          "exception": false,
          "start_time": "2020-09-13T12:22:21.348660",
          "status": "completed"
        },
        "tags": [],
        "id": "lIHsoawgU_-p"
      },
      "source": [
        "Now further, Avoiding y_name and split for obvious reasons. "
      ]
    },
    {
      "cell_type": "code",
      "metadata": {
        "execution": {
          "iopub.execute_input": "2020-09-13T12:22:22.715581Z",
          "iopub.status.busy": "2020-09-13T12:22:22.714548Z",
          "iopub.status.idle": "2020-09-13T12:22:22.786336Z",
          "shell.execute_reply": "2020-09-13T12:22:22.786912Z"
        },
        "papermill": {
          "duration": 0.531337,
          "end_time": "2020-09-13T12:22:22.787061",
          "exception": false,
          "start_time": "2020-09-13T12:22:22.255724",
          "status": "completed"
        },
        "tags": [],
        "id": "A3LLBP-pU_-4"
      },
      "source": [
        "#collapse-show\n",
        "test = TabularPandas(df_test, procs=[Categorify, FillMissing,Normalize],\n",
        "                   cat_names = cat_names,\n",
        "                   cont_names = cont_names,\n",
        "                   )"
      ],
      "execution_count": null,
      "outputs": []
    },
    {
      "cell_type": "markdown",
      "metadata": {
        "papermill": {
          "duration": 0.45156,
          "end_time": "2020-09-13T12:22:23.691457",
          "exception": false,
          "start_time": "2020-09-13T12:22:23.239897",
          "status": "completed"
        },
        "tags": [],
        "id": "zd9Ly316U__F"
      },
      "source": [
        "getting the table value for test dataset. we used train.xs becoz it lets us extact the data we had given the tabularpandas function\n"
      ]
    },
    {
      "cell_type": "code",
      "metadata": {
        "execution": {
          "iopub.execute_input": "2020-09-13T12:22:24.663434Z",
          "iopub.status.busy": "2020-09-13T12:22:24.662378Z",
          "iopub.status.idle": "2020-09-13T12:22:24.667121Z",
          "shell.execute_reply": "2020-09-13T12:22:24.667764Z"
        },
        "papermill": {
          "duration": 0.485187,
          "end_time": "2020-09-13T12:22:24.667910",
          "exception": false,
          "start_time": "2020-09-13T12:22:24.182723",
          "status": "completed"
        },
        "tags": [],
        "id": "EdKjdBofU__H"
      },
      "source": [
        "#hide\n",
        "X_test= test.train.xs"
      ],
      "execution_count": null,
      "outputs": []
    },
    {
      "cell_type": "code",
      "metadata": {
        "execution": {
          "iopub.execute_input": "2020-09-13T12:22:25.638470Z",
          "iopub.status.busy": "2020-09-13T12:22:25.630836Z",
          "iopub.status.idle": "2020-09-13T12:22:25.643036Z",
          "shell.execute_reply": "2020-09-13T12:22:25.642485Z"
        },
        "papermill": {
          "duration": 0.502521,
          "end_time": "2020-09-13T12:22:25.643144",
          "exception": false,
          "start_time": "2020-09-13T12:22:25.140623",
          "status": "completed"
        },
        "tags": [],
        "id": "jyU85kp2U__U",
        "outputId": "107024cf-b27b-4ee5-8e89-753d9d938e0a"
      },
      "source": [
        "#collapse-show\n",
        "X_test.head()"
      ],
      "execution_count": null,
      "outputs": [
        {
          "output_type": "execute_result",
          "data": {
            "text/html": [
              "<div>\n",
              "<style scoped>\n",
              "    .dataframe tbody tr th:only-of-type {\n",
              "        vertical-align: middle;\n",
              "    }\n",
              "\n",
              "    .dataframe tbody tr th {\n",
              "        vertical-align: top;\n",
              "    }\n",
              "\n",
              "    .dataframe thead th {\n",
              "        text-align: right;\n",
              "    }\n",
              "</style>\n",
              "<table border=\"1\" class=\"dataframe\">\n",
              "  <thead>\n",
              "    <tr style=\"text-align: right;\">\n",
              "      <th></th>\n",
              "      <th>Name</th>\n",
              "      <th>Sex</th>\n",
              "      <th>Ticket</th>\n",
              "      <th>Cabin</th>\n",
              "      <th>Embarked</th>\n",
              "      <th>Name_wiki</th>\n",
              "      <th>Hometown</th>\n",
              "      <th>Boarded</th>\n",
              "      <th>Destination</th>\n",
              "      <th>Lifeboat</th>\n",
              "      <th>...</th>\n",
              "      <th>Class_na</th>\n",
              "      <th>PassengerId</th>\n",
              "      <th>Pclass</th>\n",
              "      <th>SibSp</th>\n",
              "      <th>Parch</th>\n",
              "      <th>Age</th>\n",
              "      <th>Fare</th>\n",
              "      <th>WikiId</th>\n",
              "      <th>Age_wiki</th>\n",
              "      <th>Class</th>\n",
              "    </tr>\n",
              "  </thead>\n",
              "  <tbody>\n",
              "    <tr>\n",
              "      <th>0</th>\n",
              "      <td>207</td>\n",
              "      <td>2</td>\n",
              "      <td>153</td>\n",
              "      <td>0</td>\n",
              "      <td>2</td>\n",
              "      <td>194</td>\n",
              "      <td>226</td>\n",
              "      <td>4</td>\n",
              "      <td>103</td>\n",
              "      <td>0</td>\n",
              "      <td>...</td>\n",
              "      <td>1</td>\n",
              "      <td>-1.727912</td>\n",
              "      <td>0.873482</td>\n",
              "      <td>-0.499470</td>\n",
              "      <td>-0.400248</td>\n",
              "      <td>0.386231</td>\n",
              "      <td>-0.497413</td>\n",
              "      <td>0.752828</td>\n",
              "      <td>-0.794545</td>\n",
              "      <td>0.871140</td>\n",
              "    </tr>\n",
              "    <tr>\n",
              "      <th>1</th>\n",
              "      <td>404</td>\n",
              "      <td>1</td>\n",
              "      <td>222</td>\n",
              "      <td>0</td>\n",
              "      <td>3</td>\n",
              "      <td>389</td>\n",
              "      <td>162</td>\n",
              "      <td>4</td>\n",
              "      <td>2</td>\n",
              "      <td>9</td>\n",
              "      <td>...</td>\n",
              "      <td>1</td>\n",
              "      <td>-1.719625</td>\n",
              "      <td>0.873482</td>\n",
              "      <td>0.616992</td>\n",
              "      <td>-0.400248</td>\n",
              "      <td>1.371369</td>\n",
              "      <td>-0.512278</td>\n",
              "      <td>1.729823</td>\n",
              "      <td>1.304755</td>\n",
              "      <td>0.871140</td>\n",
              "    </tr>\n",
              "    <tr>\n",
              "      <th>2</th>\n",
              "      <td>270</td>\n",
              "      <td>2</td>\n",
              "      <td>74</td>\n",
              "      <td>0</td>\n",
              "      <td>2</td>\n",
              "      <td>257</td>\n",
              "      <td>65</td>\n",
              "      <td>3</td>\n",
              "      <td>154</td>\n",
              "      <td>0</td>\n",
              "      <td>...</td>\n",
              "      <td>1</td>\n",
              "      <td>-1.711337</td>\n",
              "      <td>-0.315819</td>\n",
              "      <td>-0.499470</td>\n",
              "      <td>-0.400248</td>\n",
              "      <td>2.553536</td>\n",
              "      <td>-0.464100</td>\n",
              "      <td>-0.332721</td>\n",
              "      <td>2.504355</td>\n",
              "      <td>-0.311121</td>\n",
              "    </tr>\n",
              "    <tr>\n",
              "      <th>3</th>\n",
              "      <td>409</td>\n",
              "      <td>2</td>\n",
              "      <td>148</td>\n",
              "      <td>0</td>\n",
              "      <td>3</td>\n",
              "      <td>393</td>\n",
              "      <td>233</td>\n",
              "      <td>4</td>\n",
              "      <td>13</td>\n",
              "      <td>0</td>\n",
              "      <td>...</td>\n",
              "      <td>1</td>\n",
              "      <td>-1.703050</td>\n",
              "      <td>0.873482</td>\n",
              "      <td>-0.499470</td>\n",
              "      <td>-0.400248</td>\n",
              "      <td>-0.204852</td>\n",
              "      <td>-0.482475</td>\n",
              "      <td>1.745709</td>\n",
              "      <td>-0.194745</td>\n",
              "      <td>0.871140</td>\n",
              "    </tr>\n",
              "    <tr>\n",
              "      <th>4</th>\n",
              "      <td>179</td>\n",
              "      <td>1</td>\n",
              "      <td>139</td>\n",
              "      <td>0</td>\n",
              "      <td>3</td>\n",
              "      <td>167</td>\n",
              "      <td>208</td>\n",
              "      <td>4</td>\n",
              "      <td>94</td>\n",
              "      <td>7</td>\n",
              "      <td>...</td>\n",
              "      <td>1</td>\n",
              "      <td>-1.694763</td>\n",
              "      <td>0.873482</td>\n",
              "      <td>0.616992</td>\n",
              "      <td>0.619896</td>\n",
              "      <td>-0.598908</td>\n",
              "      <td>-0.417491</td>\n",
              "      <td>0.601910</td>\n",
              "      <td>-0.569620</td>\n",
              "      <td>0.871140</td>\n",
              "    </tr>\n",
              "  </tbody>\n",
              "</table>\n",
              "<p>5 rows × 25 columns</p>\n",
              "</div>"
            ],
            "text/plain": [
              "   Name  Sex  Ticket  Cabin  Embarked  Name_wiki  Hometown  Boarded  \\\n",
              "0   207    2     153      0         2        194       226        4   \n",
              "1   404    1     222      0         3        389       162        4   \n",
              "2   270    2      74      0         2        257        65        3   \n",
              "3   409    2     148      0         3        393       233        4   \n",
              "4   179    1     139      0         3        167       208        4   \n",
              "\n",
              "   Destination  Lifeboat  ...  Class_na  PassengerId    Pclass     SibSp  \\\n",
              "0          103         0  ...         1    -1.727912  0.873482 -0.499470   \n",
              "1            2         9  ...         1    -1.719625  0.873482  0.616992   \n",
              "2          154         0  ...         1    -1.711337 -0.315819 -0.499470   \n",
              "3           13         0  ...         1    -1.703050  0.873482 -0.499470   \n",
              "4           94         7  ...         1    -1.694763  0.873482  0.616992   \n",
              "\n",
              "      Parch       Age      Fare    WikiId  Age_wiki     Class  \n",
              "0 -0.400248  0.386231 -0.497413  0.752828 -0.794545  0.871140  \n",
              "1 -0.400248  1.371369 -0.512278  1.729823  1.304755  0.871140  \n",
              "2 -0.400248  2.553536 -0.464100 -0.332721  2.504355 -0.311121  \n",
              "3 -0.400248 -0.204852 -0.482475  1.745709 -0.194745  0.871140  \n",
              "4  0.619896 -0.598908 -0.417491  0.601910 -0.569620  0.871140  \n",
              "\n",
              "[5 rows x 25 columns]"
            ]
          },
          "metadata": {
            "tags": []
          },
          "execution_count": 27
        }
      ]
    },
    {
      "cell_type": "markdown",
      "metadata": {
        "id": "C6Kmv3J32MKB"
      },
      "source": [
        "Now taking a look at features present in test data."
      ]
    },
    {
      "cell_type": "code",
      "metadata": {
        "execution": {
          "iopub.execute_input": "2020-09-13T12:22:26.559315Z",
          "iopub.status.busy": "2020-09-13T12:22:26.558230Z",
          "iopub.status.idle": "2020-09-13T12:22:26.570047Z",
          "shell.execute_reply": "2020-09-13T12:22:26.569402Z"
        },
        "papermill": {
          "duration": 0.470616,
          "end_time": "2020-09-13T12:22:26.570200",
          "exception": false,
          "start_time": "2020-09-13T12:22:26.099584",
          "status": "completed"
        },
        "tags": [],
        "id": "F2hL3U1QU__q",
        "outputId": "489f7285-c1e5-48aa-9822-45d87fd3e17e"
      },
      "source": [
        "#collapse-show\n",
        "X_test.dtypes\n",
        "g_train =X_test.columns.to_series().groupby(X_test.dtypes).groups\n",
        "g_train"
      ],
      "execution_count": null,
      "outputs": [
        {
          "output_type": "execute_result",
          "data": {
            "text/plain": [
              "{int8: ['Sex', 'Cabin', 'Embarked', 'Boarded', 'Lifeboat', 'Body', 'Age_na', 'Fare_na', 'WikiId_na', 'Age_wiki_na', 'Class_na'], int16: ['Name', 'Ticket', 'Name_wiki', 'Hometown', 'Destination'], float64: ['PassengerId', 'Pclass', 'SibSp', 'Parch', 'Age', 'Fare', 'WikiId', 'Age_wiki', 'Class']}"
            ]
          },
          "metadata": {
            "tags": []
          },
          "execution_count": 28
        }
      ]
    },
    {
      "cell_type": "markdown",
      "metadata": {
        "id": "vwnKN-mk2Y_I"
      },
      "source": [
        " > Warning: See that we are dropping `Fare_na` column"
      ]
    },
    {
      "cell_type": "code",
      "metadata": {
        "execution": {
          "iopub.execute_input": "2020-09-13T12:22:28.393736Z",
          "iopub.status.busy": "2020-09-13T12:22:28.392691Z",
          "iopub.status.idle": "2020-09-13T12:22:28.398295Z",
          "shell.execute_reply": "2020-09-13T12:22:28.398784Z"
        },
        "papermill": {
          "duration": 0.465762,
          "end_time": "2020-09-13T12:22:28.398937",
          "exception": false,
          "start_time": "2020-09-13T12:22:27.933175",
          "status": "completed"
        },
        "tags": [],
        "id": "jRoOGAjSU__1"
      },
      "source": [
        "X_test= X_test.drop('Fare_na', axis=1)"
      ],
      "execution_count": null,
      "outputs": []
    },
    {
      "cell_type": "markdown",
      "metadata": {
        "id": "4849-xIz2XUV"
      },
      "source": [
        "Now you would be thinking why we are dropping the 'Fare_na' column. The reason is, originally we trained model on 24 features. But as you know that tabularpandas function creates a new column if there is any missing value spotted in any particular feature.\n",
        "\n",
        "Here, our test data had some Fare values missing so the function created the boolean column this lead to 25 features. If you try to pass without dropping Fare_na column, it will give you the error that model was trained on 24 features and we are passing 25. That's why dropping Fare_na feature. And dont worry it doesnt have any effect on the output"
      ]
    },
    {
      "cell_type": "code",
      "metadata": {
        "execution": {
          "iopub.execute_input": "2020-09-13T12:22:29.319355Z",
          "iopub.status.busy": "2020-09-13T12:22:29.317763Z",
          "iopub.status.idle": "2020-09-13T12:22:29.426437Z",
          "shell.execute_reply": "2020-09-13T12:22:29.425815Z"
        },
        "papermill": {
          "duration": 0.571287,
          "end_time": "2020-09-13T12:22:29.426603",
          "exception": false,
          "start_time": "2020-09-13T12:22:28.855316",
          "status": "completed"
        },
        "tags": [],
        "id": "A1VwBTMpU__8"
      },
      "source": [
        "#hide\n",
        "y_pred=rnf_classifier.predict(X_test)\n"
      ],
      "execution_count": null,
      "outputs": []
    },
    {
      "cell_type": "code",
      "metadata": {
        "execution": {
          "iopub.execute_input": "2020-09-13T12:22:30.422923Z",
          "iopub.status.busy": "2020-09-13T12:22:30.422182Z",
          "iopub.status.idle": "2020-09-13T12:22:30.427569Z",
          "shell.execute_reply": "2020-09-13T12:22:30.428127Z"
        },
        "papermill": {
          "duration": 0.472608,
          "end_time": "2020-09-13T12:22:30.428274",
          "exception": false,
          "start_time": "2020-09-13T12:22:29.955666",
          "status": "completed"
        },
        "tags": [],
        "id": "Upl_1MdwVAAI"
      },
      "source": [
        "#hide\n",
        "y_pred= y_pred.astype(int)"
      ],
      "execution_count": null,
      "outputs": []
    },
    {
      "cell_type": "markdown",
      "metadata": {
        "papermill": {
          "duration": 0.470479,
          "end_time": "2020-09-13T12:22:31.356692",
          "exception": false,
          "start_time": "2020-09-13T12:22:30.886213",
          "status": "completed"
        },
        "tags": [],
        "id": "hR0nxn4yVAAT"
      },
      "source": [
        "Here is our output"
      ]
    },
    {
      "cell_type": "code",
      "metadata": {
        "execution": {
          "iopub.execute_input": "2020-09-13T12:22:32.309333Z",
          "iopub.status.busy": "2020-09-13T12:22:32.308338Z",
          "iopub.status.idle": "2020-09-13T12:22:32.597771Z",
          "shell.execute_reply": "2020-09-13T12:22:32.597233Z"
        },
        "papermill": {
          "duration": 0.753057,
          "end_time": "2020-09-13T12:22:32.597889",
          "exception": false,
          "start_time": "2020-09-13T12:22:31.844832",
          "status": "completed"
        },
        "tags": [],
        "id": "INFIHsKwVAAU",
        "outputId": "a21f0269-01f7-45b1-d621-19e072d2b427"
      },
      "source": [
        "output= pd.DataFrame({'PassengerId':df_test.PassengerId, 'Survived': y_pred})\n",
        "output.to_csv('my_submission_titanic.csv', index=False)\n",
        "output.head()"
      ],
      "execution_count": null,
      "outputs": [
        {
          "output_type": "execute_result",
          "data": {
            "text/html": [
              "<div>\n",
              "<style scoped>\n",
              "    .dataframe tbody tr th:only-of-type {\n",
              "        vertical-align: middle;\n",
              "    }\n",
              "\n",
              "    .dataframe tbody tr th {\n",
              "        vertical-align: top;\n",
              "    }\n",
              "\n",
              "    .dataframe thead th {\n",
              "        text-align: right;\n",
              "    }\n",
              "</style>\n",
              "<table border=\"1\" class=\"dataframe\">\n",
              "  <thead>\n",
              "    <tr style=\"text-align: right;\">\n",
              "      <th></th>\n",
              "      <th>PassengerId</th>\n",
              "      <th>Survived</th>\n",
              "    </tr>\n",
              "  </thead>\n",
              "  <tbody>\n",
              "    <tr>\n",
              "      <th>0</th>\n",
              "      <td>892</td>\n",
              "      <td>0</td>\n",
              "    </tr>\n",
              "    <tr>\n",
              "      <th>1</th>\n",
              "      <td>893</td>\n",
              "      <td>1</td>\n",
              "    </tr>\n",
              "    <tr>\n",
              "      <th>2</th>\n",
              "      <td>894</td>\n",
              "      <td>0</td>\n",
              "    </tr>\n",
              "    <tr>\n",
              "      <th>3</th>\n",
              "      <td>895</td>\n",
              "      <td>0</td>\n",
              "    </tr>\n",
              "    <tr>\n",
              "      <th>4</th>\n",
              "      <td>896</td>\n",
              "      <td>1</td>\n",
              "    </tr>\n",
              "  </tbody>\n",
              "</table>\n",
              "</div>"
            ],
            "text/plain": [
              "   PassengerId  Survived\n",
              "0          892         0\n",
              "1          893         1\n",
              "2          894         0\n",
              "3          895         0\n",
              "4          896         1"
            ]
          },
          "metadata": {
            "tags": []
          },
          "execution_count": 32
        }
      ]
    },
    {
      "cell_type": "code",
      "metadata": {
        "papermill": {
          "duration": 0.463567,
          "end_time": "2020-09-13T12:22:33.528977",
          "exception": false,
          "start_time": "2020-09-13T12:22:33.065410",
          "status": "completed"
        },
        "tags": [],
        "id": "PGmb4gYiVAAZ"
      },
      "source": [
        ""
      ],
      "execution_count": null,
      "outputs": []
    }
  ]
}