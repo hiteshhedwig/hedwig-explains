{
  "nbformat": 4,
  "nbformat_minor": 0,
  "metadata": {
    "colab": {
      "name": "file name changing.ipynb",
      "provenance": [],
      "collapsed_sections": []
    },
    "kernelspec": {
      "name": "python3",
      "display_name": "Python 3"
    }
  },
  "cells": [
    {
      "cell_type": "markdown",
      "metadata": {
        "id": "im5jQiKNALaF"
      },
      "source": [
        "# Changing Folder Name for model training\n",
        "> A very basic tutorial for changing file names\n",
        "\n",
        "- badges: true\n",
        "- comments: true\n",
        "- categories: [python, filechange, datascience]\n",
        "- author: Hitesh Kumar\n"
      ]
    },
    {
      "cell_type": "markdown",
      "metadata": {
        "id": "Xq6orqKaF5yy"
      },
      "source": [
        "# What are we doing in this blog? \n",
        "\n",
        "We are changing folders name like this:\n",
        "\n",
        "\n",
        "Folder Name from `n02113023-Pembroke` Changed to `Pembroke`\n",
        "\n",
        "Folder Name from `n02113624-toy_poodle` Changed to `Toy Poodle`\n",
        "\n",
        "Folder Name from `n02115641-dingo` Changed to `Dingo`\n",
        "\n",
        "If want to learn this, Go on with reading:"
      ]
    },
    {
      "cell_type": "code",
      "metadata": {
        "id": "N1cPyWBe9XeJ",
        "outputId": "cf096893-d7ad-44ef-dee8-6a7fd5e53c66",
        "colab": {
          "base_uri": "https://localhost:8080/",
          "height": 124
        }
      },
      "source": [
        "#collapse-show\n",
        "from google.colab import drive\n",
        "drive.mount(\"/content/gdrive\")"
      ],
      "execution_count": null,
      "outputs": [
        {
          "output_type": "stream",
          "text": [
            "Go to this URL in a browser: https://accounts.google.com/o/oauth2/auth?client_id=947318989803-6bn6qk8qdgf4n4g3pfee6491hc0brc4i.apps.googleusercontent.com&redirect_uri=urn%3aietf%3awg%3aoauth%3a2.0%3aoob&response_type=code&scope=email%20https%3a%2f%2fwww.googleapis.com%2fauth%2fdocs.test%20https%3a%2f%2fwww.googleapis.com%2fauth%2fdrive%20https%3a%2f%2fwww.googleapis.com%2fauth%2fdrive.photos.readonly%20https%3a%2f%2fwww.googleapis.com%2fauth%2fpeopleapi.readonly\n",
            "\n",
            "Enter your authorization code:\n",
            "··········\n",
            "Mounted at /content/gdrive\n"
          ],
          "name": "stdout"
        }
      ]
    },
    {
      "cell_type": "markdown",
      "metadata": {
        "id": "n6w8wQCuEjao"
      },
      "source": [
        "In this, dataset directory. I have downloaded, famous standford [dataset](http://vision.stanford.edu/aditya86/ImageNetDogs/). The Stanford Dogs dataset contains images of 120 breeds of dogs from around the world. This dataset has been built using images and annotation from ImageNet for the task of fine-grained image categorization. \n",
        "\n",
        "\n",
        "The name of the folders (which will be used as classes while training) have names like, `n02093256-Staffordshire_bullterrier`. We definitely don't want our class to be like that but rather simple `Staffordshire Bullterrier`. The python script will get rid of any weird characters that are unneccessary.\n",
        "\n",
        "Now, we have our path defined where the data is situated. In my case, i had uploaded it to google drive. Time consuming upload, avoid it if possible."
      ]
    },
    {
      "cell_type": "code",
      "metadata": {
        "id": "CMOrm1L49iQb"
      },
      "source": [
        "#collapse-hide\n",
        "path= '/content/gdrive/My Drive/Dog species/Images'"
      ],
      "execution_count": null,
      "outputs": []
    },
    {
      "cell_type": "markdown",
      "metadata": {
        "id": "aHAe2MGgEP1P"
      },
      "source": [
        "> Note: This code will need to be modified according to the folder name you are dealing with.\n",
        "\n",
        "Let's say we have folder name like this:\n",
        "\n",
        "`n02093256-Staffordshire_bullterrier`\n",
        "\n",
        "Here is our process of obtaining what we want,\n",
        "-   We first split on the basis of  - (hyphen) charachter\n",
        "- Then we obtain list like this: `['n02093256' , 'Staffordshire_bullterrier']`\n",
        "- After that, we use slicing technique to select second index.\n",
        "- Then after we have what we wanted, we can simply again split on the basis of  _ (underscore)\n",
        "- Then we obtain something like this:\n",
        "`['Staffordshire','bullterrier']`\n",
        "- After we have what we wanted we can simply join the list back. And use capitalize to make first letter of word capitalize.\n"
      ]
    },
    {
      "cell_type": "code",
      "metadata": {
        "id": "RCHv1IsJ91vj",
        "outputId": "bd12a38e-2909-4bce-af37-8d4e971be6b4",
        "colab": {
          "base_uri": "https://localhost:8080/",
          "height": 1000
        }
      },
      "source": [
        "'''\n",
        "THIS PYTHON CODE CHANGES NAME OF FILES IN A FOLDER\n",
        "'''\n",
        "\n",
        "import os\n",
        "import string\n",
        "\n",
        "\n",
        "def change_name(folder_name): \n",
        "    folder_name=folder_name.split('-') #n02113023-Pembroke->['n02113023','Pembroke'] \n",
        "    folder_name= ' '.join(folder_name[1:]) #Selecting index after 1 and joining them\n",
        "    folder_name=folder_name.split('_') # Again splitting becayse name seem to be like Staffordshire_bullterrier\n",
        "    folder_name= ' '.join(folder_name) #again joining after getting rid of _ \n",
        "    return string.capwords(folder_name) #or we can use capitalize()\n",
        "\n",
        "#iterating over all the folders and changing file name\n",
        "for fn in os.listdir(path):\n",
        "\n",
        "    new_path= os.path.join(path,fn)\n",
        "    #folder_name= os.path.basename(new_path) #alternative use of to know file name    \n",
        "    new_folder_name= change_name(fn)\n",
        "    os.rename(os.path.join(path,fn),os.path.join(path,new_folder_name))\n",
        "    print (f'Folder Name from {fn} Changed to {new_folder_name}')\n",
        "\n",
        "\n"
      ],
      "execution_count": null,
      "outputs": [
        {
          "output_type": "stream",
          "text": [
            "Folder Name from n02113023-Pembroke Changed to Pembroke\n",
            "Folder Name from n02093256-Staffordshire_bullterrier Changed to Staffordshire Bullterrier\n",
            "Folder Name from n02093428-American_Staffordshire_terrier Changed to American Staffordshire Terrier\n",
            "Folder Name from n02113624-toy_poodle Changed to Toy Poodle\n",
            "Folder Name from n02100236-German_short-haired_pointer Changed to German Short Haired Pointer\n",
            "Folder Name from n02115641-dingo Changed to Dingo\n",
            "Folder Name from n02089867-Walker_hound Changed to Walker Hound\n",
            "Folder Name from n02099601-golden_retriever Changed to Golden Retriever\n",
            "Folder Name from n02105162-malinois Changed to Malinois\n",
            "Folder Name from n02100735-English_setter Changed to English Setter\n",
            "Folder Name from n02097298-Scotch_terrier Changed to Scotch Terrier\n",
            "Folder Name from n02095889-Sealyham_terrier Changed to Sealyham Terrier\n",
            "Folder Name from n02106550-Rottweiler Changed to Rottweiler\n",
            "Folder Name from n02088094-Afghan_hound Changed to Afghan Hound\n",
            "Folder Name from n02112018-Pomeranian Changed to Pomeranian\n",
            "Folder Name from n02099429-curly-coated_retriever Changed to Curly Coated Retriever\n",
            "Folder Name from n02095314-wire-haired_fox_terrier Changed to Wire Haired Fox Terrier\n",
            "Folder Name from n02116738-African_hunting_dog Changed to African Hunting Dog\n",
            "Folder Name from n02091467-Norwegian_elkhound Changed to Norwegian Elkhound\n",
            "Folder Name from n02096294-Australian_terrier Changed to Australian Terrier\n",
            "Folder Name from n02108422-bull_mastiff Changed to Bull Mastiff\n",
            "Folder Name from n02096177-cairn Changed to Cairn\n",
            "Folder Name from n02104365-schipperke Changed to Schipperke\n",
            "Folder Name from n02101556-clumber Changed to Clumber\n",
            "Folder Name from n02090721-Irish_wolfhound Changed to Irish Wolfhound\n",
            "Folder Name from n02110806-basenji Changed to Basenji\n",
            "Folder Name from n02105251-briard Changed to Briard\n",
            "Folder Name from n02102040-English_springer Changed to English Springer\n",
            "Folder Name from n02085620-Chihuahua Changed to Chihuahua\n",
            "Folder Name from n02110063-malamute Changed to Malamute\n",
            "Folder Name from n02109525-Saint_Bernard Changed to Saint Bernard\n",
            "Folder Name from n02107683-Bernese_mountain_dog Changed to Bernese Mountain Dog\n",
            "Folder Name from n02111129-Leonberg Changed to Leonberg\n",
            "Folder Name from n02094114-Norfolk_terrier Changed to Norfolk Terrier\n",
            "Folder Name from n02110627-affenpinscher Changed to Affenpinscher\n",
            "Folder Name from n02111277-Newfoundland Changed to Newfoundland\n",
            "Folder Name from n02112350-keeshond Changed to Keeshond\n",
            "Folder Name from n02106382-Bouvier_des_Flandres Changed to Bouvier Des Flandres\n",
            "Folder Name from n02093647-Bedlington_terrier Changed to Bedlington Terrier\n",
            "Folder Name from n02107312-miniature_pinscher Changed to Miniature Pinscher\n",
            "Folder Name from n02115913-dhole Changed to Dhole\n",
            "Folder Name from n02111889-Samoyed Changed to Samoyed\n",
            "Folder Name from n02091032-Italian_greyhound Changed to Italian Greyhound\n",
            "Folder Name from n02085782-Japanese_spaniel Changed to Japanese Spaniel\n",
            "Folder Name from n02098286-West_Highland_white_terrier Changed to West Highland White Terrier\n",
            "Folder Name from n02090379-redbone Changed to Redbone\n",
            "Folder Name from n02099849-Chesapeake_Bay_retriever Changed to Chesapeake Bay Retriever\n",
            "Folder Name from n02106662-German_shepherd Changed to German Shepherd\n",
            "Folder Name from n02105505-komondor Changed to Komondor\n",
            "Folder Name from n02087046-toy_terrier Changed to Toy Terrier\n",
            "Folder Name from n02098105-soft-coated_wheaten_terrier Changed to Soft Coated Wheaten Terrier\n",
            "Folder Name from n02099267-flat-coated_retriever Changed to Flat Coated Retriever\n",
            "Folder Name from n02104029-kuvasz Changed to Kuvasz\n",
            "Folder Name from n02096585-Boston_bull Changed to Boston Bull\n",
            "Folder Name from n02097130-giant_schnauzer Changed to Giant Schnauzer\n",
            "Folder Name from n02086646-Blenheim_spaniel Changed to Blenheim Spaniel\n",
            "Folder Name from n02112706-Brabancon_griffon Changed to Brabancon Griffon\n",
            "Folder Name from n02111500-Great_Pyrenees Changed to Great Pyrenees\n",
            "Folder Name from n02088466-bloodhound Changed to Bloodhound\n",
            "Folder Name from n02101006-Gordon_setter Changed to Gordon Setter\n",
            "Folder Name from n02108089-boxer Changed to Boxer\n",
            "Folder Name from n02113799-standard_poodle Changed to Standard Poodle\n",
            "Folder Name from n02086910-papillon Changed to Papillon\n",
            "Folder Name from n02113712-miniature_poodle Changed to Miniature Poodle\n",
            "Folder Name from n02095570-Lakeland_terrier Changed to Lakeland Terrier\n",
            "Folder Name from n02098413-Lhasa Changed to Lhasa\n",
            "Folder Name from n02106030-collie Changed to Collie\n",
            "Folder Name from n02092002-Scottish_deerhound Changed to Scottish Deerhound\n",
            "Folder Name from n02110185-Siberian_husky Changed to Siberian Husky\n",
            "Folder Name from n02088238-basset Changed to Basset\n",
            "Folder Name from n02097047-miniature_schnauzer Changed to Miniature Schnauzer\n",
            "Folder Name from n02108551-Tibetan_mastiff Changed to Tibetan Mastiff\n",
            "Folder Name from n02105412-kelpie Changed to Kelpie\n",
            "Folder Name from n02106166-Border_collie Changed to Border Collie\n",
            "Folder Name from n02102480-Sussex_spaniel Changed to Sussex Spaniel\n",
            "Folder Name from n02110958-pug Changed to Pug\n",
            "Folder Name from n02109961-Eskimo_dog Changed to Eskimo Dog\n",
            "Folder Name from n02096437-Dandie_Dinmont Changed to Dandie Dinmont\n",
            "Folder Name from n02091831-Saluki Changed to Saluki\n",
            "Folder Name from n02105056-groenendael Changed to Groenendael\n",
            "Folder Name from n02113186-Cardigan Changed to Cardigan\n",
            "Folder Name from n02102973-Irish_water_spaniel Changed to Irish Water Spaniel\n",
            "Folder Name from n02113978-Mexican_hairless Changed to Mexican Hairless\n",
            "Folder Name from n02092339-Weimaraner Changed to Weimaraner\n",
            "Folder Name from n02105855-Shetland_sheepdog Changed to Shetland Sheepdog\n",
            "Folder Name from n02089973-English_foxhound Changed to English Foxhound\n",
            "Folder Name from n02102318-cocker_spaniel Changed to Cocker Spaniel\n",
            "Folder Name from n02097658-silky_terrier Changed to Silky Terrier\n",
            "Folder Name from n02088632-bluetick Changed to Bluetick\n",
            "Folder Name from n02091635-otterhound Changed to Otterhound\n",
            "Folder Name from n02108000-EntleBucher Changed to Entlebucher\n",
            "Folder Name from n02094258-Norwich_terrier Changed to Norwich Terrier\n",
            "Folder Name from n02112137-chow Changed to Chow\n",
            "Folder Name from n02094433-Yorkshire_terrier Changed to Yorkshire Terrier\n",
            "Folder Name from n02097474-Tibetan_terrier Changed to Tibetan Terrier\n",
            "Folder Name from n02100583-vizsla Changed to Vizsla\n",
            "Folder Name from n02097209-standard_schnauzer Changed to Standard Schnauzer\n",
            "Folder Name from n02096051-Airedale Changed to Airedale\n",
            "Folder Name from n02091134-whippet Changed to Whippet\n",
            "Folder Name from n02107908-Appenzeller Changed to Appenzeller\n",
            "Folder Name from n02105641-Old_English_sheepdog Changed to Old English Sheepdog\n",
            "Folder Name from n02085936-Maltese_dog Changed to Maltese Dog\n",
            "Folder Name from n02087394-Rhodesian_ridgeback Changed to Rhodesian Ridgeback\n",
            "Folder Name from n02108915-French_bulldog Changed to French Bulldog\n",
            "Folder Name from n02100877-Irish_setter Changed to Irish Setter\n",
            "Folder Name from n02109047-Great_Dane Changed to Great Dane\n",
            "Folder Name from n02107574-Greater_Swiss_Mountain_dog Changed to Greater Swiss Mountain Dog\n",
            "Folder Name from n02086240-Shih-Tzu Changed to Shih Tzu\n",
            "Folder Name from n02093859-Kerry_blue_terrier Changed to Kerry Blue Terrier\n",
            "Folder Name from n02086079-Pekinese Changed to Pekinese\n",
            "Folder Name from n02107142-Doberman Changed to Doberman\n",
            "Folder Name from n02088364-beagle Changed to Beagle\n",
            "Folder Name from n02101388-Brittany_spaniel Changed to Brittany Spaniel\n",
            "Folder Name from n02093754-Border_terrier Changed to Border Terrier\n",
            "Folder Name from n02089078-black-and-tan_coonhound Changed to Black And Tan Coonhound\n",
            "Folder Name from n02099712-Labrador_retriever Changed to Labrador Retriever\n",
            "Folder Name from n02093991-Irish_terrier Changed to Irish Terrier\n",
            "Folder Name from n02090622-borzoi Changed to Borzoi\n",
            "Folder Name from n02091244-Ibizan_hound Changed to Ibizan Hound\n",
            "Folder Name from n02102177-Welsh_springer_spaniel Changed to Welsh Springer Spaniel\n"
          ],
          "name": "stdout"
        }
      ]
    },
    {
      "cell_type": "code",
      "metadata": {
        "id": "-tcIuni2-LIV",
        "outputId": "1fa3cbda-f1ef-4bc9-c70d-8e26704f83a3",
        "colab": {
          "base_uri": "https://localhost:8080/",
          "height": 1000
        }
      },
      "source": [
        "count=0\n",
        "for fn in os.listdir(path):\n",
        "    count+=1\n",
        "    print(fn)\n",
        "\n",
        "print(count)"
      ],
      "execution_count": null,
      "outputs": [
        {
          "output_type": "stream",
          "text": [
            "Pembroke\n",
            "Staffordshire Bullterrier\n",
            "American Staffordshire Terrier\n",
            "Toy Poodle\n",
            "German Short Haired Pointer\n",
            "Dingo\n",
            "Walker Hound\n",
            "Golden Retriever\n",
            "Malinois\n",
            "English Setter\n",
            "Scotch Terrier\n",
            "Sealyham Terrier\n",
            "Rottweiler\n",
            "Afghan Hound\n",
            "Pomeranian\n",
            "Curly Coated Retriever\n",
            "Wire Haired Fox Terrier\n",
            "African Hunting Dog\n",
            "Norwegian Elkhound\n",
            "Australian Terrier\n",
            "Bull Mastiff\n",
            "Cairn\n",
            "Schipperke\n",
            "Clumber\n",
            "Irish Wolfhound\n",
            "Basenji\n",
            "Briard\n",
            "English Springer\n",
            "Chihuahua\n",
            "Malamute\n",
            "Saint Bernard\n",
            "Bernese Mountain Dog\n",
            "Leonberg\n",
            "Norfolk Terrier\n",
            "Affenpinscher\n",
            "Newfoundland\n",
            "Keeshond\n",
            "Bouvier Des Flandres\n",
            "Bedlington Terrier\n",
            "Miniature Pinscher\n",
            "Dhole\n",
            "Samoyed\n",
            "Italian Greyhound\n",
            "Japanese Spaniel\n",
            "West Highland White Terrier\n",
            "Redbone\n",
            "Chesapeake Bay Retriever\n",
            "German Shepherd\n",
            "Komondor\n",
            "Toy Terrier\n",
            "Soft Coated Wheaten Terrier\n",
            "Flat Coated Retriever\n",
            "Kuvasz\n",
            "Boston Bull\n",
            "Giant Schnauzer\n",
            "Blenheim Spaniel\n",
            "Brabancon Griffon\n",
            "Great Pyrenees\n",
            "Bloodhound\n",
            "Gordon Setter\n",
            "Boxer\n",
            "Standard Poodle\n",
            "Papillon\n",
            "Miniature Poodle\n",
            "Lakeland Terrier\n",
            "Lhasa\n",
            "Collie\n",
            "Scottish Deerhound\n",
            "Siberian Husky\n",
            "Basset\n",
            "Miniature Schnauzer\n",
            "Tibetan Mastiff\n",
            "Kelpie\n",
            "Border Collie\n",
            "Sussex Spaniel\n",
            "Pug\n",
            "Eskimo Dog\n",
            "Dandie Dinmont\n",
            "Saluki\n",
            "Groenendael\n",
            "Cardigan\n",
            "Irish Water Spaniel\n",
            "Mexican Hairless\n",
            "Weimaraner\n",
            "Shetland Sheepdog\n",
            "English Foxhound\n",
            "Cocker Spaniel\n",
            "Silky Terrier\n",
            "Bluetick\n",
            "Otterhound\n",
            "Entlebucher\n",
            "Norwich Terrier\n",
            "Chow\n",
            "Yorkshire Terrier\n",
            "Tibetan Terrier\n",
            "Vizsla\n",
            "Standard Schnauzer\n",
            "Airedale\n",
            "Whippet\n",
            "Appenzeller\n",
            "Old English Sheepdog\n",
            "Maltese Dog\n",
            "Rhodesian Ridgeback\n",
            "French Bulldog\n",
            "Irish Setter\n",
            "Great Dane\n",
            "Greater Swiss Mountain Dog\n",
            "Shih Tzu\n",
            "Kerry Blue Terrier\n",
            "Pekinese\n",
            "Doberman\n",
            "Beagle\n",
            "Brittany Spaniel\n",
            "Border Terrier\n",
            "Black And Tan Coonhound\n",
            "Labrador Retriever\n",
            "Irish Terrier\n",
            "Borzoi\n",
            "Ibizan Hound\n",
            "Welsh Springer Spaniel\n",
            "120\n"
          ],
          "name": "stdout"
        }
      ]
    },
    {
      "cell_type": "markdown",
      "metadata": {
        "id": "_Cir-JWKQJps"
      },
      "source": [
        "\n",
        "So we did what we intended to. Removing weird characters and keeping relevent ones.\n"
      ]
    },
    {
      "cell_type": "code",
      "metadata": {
        "id": "Tw_AKcIFQVho"
      },
      "source": [
        ""
      ],
      "execution_count": null,
      "outputs": []
    }
  ]
}